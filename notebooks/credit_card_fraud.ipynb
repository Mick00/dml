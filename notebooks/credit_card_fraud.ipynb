{
 "cells": [
  {
   "cell_type": "code",
   "execution_count": 1,
   "metadata": {
    "collapsed": true,
    "pycharm": {
     "name": "#%%\n"
    }
   },
   "outputs": [
    {
     "name": "stderr",
     "output_type": "stream",
     "text": [
      "C:\\Users\\micdu\\Code\\pythonProject\\dmtl\\venv\\lib\\site-packages\\pl_bolts\\callbacks\\data_monitor.py:20: UnderReviewWarning: The feature warn_missing_pkg is currently marked under review. The compatibility with other Lightning projects is not guaranteed and API may change at any time. The API and functionality may change without warning in future releases. More details: https://lightning-bolts.readthedocs.io/en/latest/stability.html\n",
      "  warn_missing_pkg(\"wandb\")\n",
      "C:\\Users\\micdu\\Code\\pythonProject\\dmtl\\venv\\lib\\site-packages\\pl_bolts\\models\\self_supervised\\amdim\\amdim_module.py:35: UnderReviewWarning: The feature generate_power_seq is currently marked under review. The compatibility with other Lightning projects is not guaranteed and API may change at any time. The API and functionality may change without warning in future releases. More details: https://lightning-bolts.readthedocs.io/en/latest/stability.html\n",
      "  \"lr_options\": generate_power_seq(LEARNING_RATE_CIFAR, 11),\n",
      "C:\\Users\\micdu\\Code\\pythonProject\\dmtl\\venv\\lib\\site-packages\\pl_bolts\\models\\self_supervised\\amdim\\amdim_module.py:93: UnderReviewWarning: The feature FeatureMapContrastiveTask is currently marked under review. The compatibility with other Lightning projects is not guaranteed and API may change at any time. The API and functionality may change without warning in future releases. More details: https://lightning-bolts.readthedocs.io/en/latest/stability.html\n",
      "  contrastive_task: Union[FeatureMapContrastiveTask] = FeatureMapContrastiveTask(\"01, 02, 11\"),\n",
      "C:\\Users\\micdu\\Code\\pythonProject\\dmtl\\venv\\lib\\site-packages\\pl_bolts\\losses\\self_supervised_learning.py:234: UnderReviewWarning: The feature AmdimNCELoss is currently marked under review. The compatibility with other Lightning projects is not guaranteed and API may change at any time. The API and functionality may change without warning in future releases. More details: https://lightning-bolts.readthedocs.io/en/latest/stability.html\n",
      "  self.nce_loss = AmdimNCELoss(tclip)\n",
      "C:\\Users\\micdu\\Code\\pythonProject\\dmtl\\venv\\lib\\site-packages\\pl_bolts\\datamodules\\experience_source.py:18: UnderReviewWarning: The feature warn_missing_pkg is currently marked under review. The compatibility with other Lightning projects is not guaranteed and API may change at any time. The API and functionality may change without warning in future releases. More details: https://lightning-bolts.readthedocs.io/en/latest/stability.html\n",
      "  warn_missing_pkg(\"gym\")\n"
     ]
    }
   ],
   "source": [
    "from notebooks.bootstrap_notebooks import bootstrap_notebook, load_dataset, train, test\n",
    "import pytorch_lightning as pl\n",
    "import torch\n",
    "import torch.functional as F\n",
    "from pl_bolts.models.autoencoders import VAE\n",
    "\n",
    "from src.base.datasets.sampling_rules.balance import balanced_weight\n",
    "from src.base.training.models.aes_utils import get_enc_dec\n",
    "from torch.nn import Flatten, Unflatten, Sequential, Linear, ReLU\n",
    "from torch.nn.functional import log_softmax, nll_loss\n",
    "from torchmetrics import Accuracy, Precision, Recall, F1Score, MetricCollection\n",
    "\n",
    "import torchmetrics"
   ]
  },
  {
   "cell_type": "code",
   "execution_count": 2,
   "outputs": [],
   "source": [
    "EXP_NAME = \"fraud_classifier\"\n",
    "\n",
    "config = {\n",
    "    \"exp_name\": EXP_NAME,\n",
    "    \"enable_gpu\": True,\n",
    "    \"training_n_dev\": 1,\n",
    "    \"logs\": \"C:\\\\Users\\\\micdu\\\\Code\\\\pythonProject\\\\dmtl\\\\notebooks\\\\logs\",\n",
    "    \"training_out\": \"C:\\\\Users\\\\micdu\\\\Code\\\\pythonProject\\\\dmtl\\\\notebooks\\\\lightning_data\",\n",
    "    \"tracking_uri\": \"http://localhost:5000\"\n",
    "}\n",
    "bootstrap_notebook(config)"
   ],
   "metadata": {
    "collapsed": false,
    "pycharm": {
     "name": "#%%\n"
    }
   }
  },
  {
   "cell_type": "code",
   "execution_count": 3,
   "outputs": [],
   "source": [
    "load_dataset({\n",
    "    \"dataset\": \"credit_card_fraud\",\n",
    "    \"data_path\": \"C:\\\\Users\\\\micdu\\\\Code\\\\pythonProject\\\\dmtl\\\\data\",\n",
    "}, lambda sampler: sampler.set_sampling_rules([balanced_weight()]))"
   ],
   "metadata": {
    "collapsed": false,
    "pycharm": {
     "name": "#%%\n"
    }
   }
  },
  {
   "cell_type": "code",
   "execution_count": 4,
   "outputs": [],
   "source": [
    "\n",
    "\n",
    "\n",
    "class FraudDetection(pl.LightningModule):\n",
    "    def __init__(self):\n",
    "        super().__init__()\n",
    "        self.l1 = Linear(30, 10)\n",
    "        self.a1 = ReLU()\n",
    "        self.l2 = Linear(10,2)\n",
    "        metrics = MetricCollection([\n",
    "            # Accuracy: due to mode multiclass, not multilabel, this uses same formula as Precision\n",
    "            Accuracy(num_classes=2),\n",
    "            Precision(num_classes=2),\n",
    "            Recall(num_classes=2),\n",
    "            F1Score(num_classes=2),\n",
    "        ])\n",
    "\n",
    "        self.train_metrics = metrics.clone(prefix='train_')\n",
    "        self.valid_metrics = metrics.clone(prefix='val_')\n",
    "        self.test_metrics = metrics.clone(prefix='test_')\n",
    "\n",
    "    def forward(self, x):\n",
    "        x = self.l1(x)\n",
    "        x = self.l2(self.a1(x))\n",
    "        return log_softmax(x, dim=1)\n",
    "\n",
    "    def configure_optimizers(self):\n",
    "        optimizer = torch.optim.Adam(self.parameters(), lr=1e-3)\n",
    "        lr_scheduler = torch.optim.lr_scheduler.StepLR(optimizer, step_size=1)\n",
    "        return [optimizer], [lr_scheduler]\n",
    "\n",
    "    def training_step(self, train_batch, batch_idx):\n",
    "        x, y = train_batch\n",
    "        logits = self(x)\n",
    "        loss = nll_loss(logits, y)\n",
    "        self.log(\"training_loss\", loss, prog_bar=True)\n",
    "        return loss\n",
    "\n",
    "    def validation_step(self, batch, batch_idx):\n",
    "        x, y = batch\n",
    "        logits = self(x)\n",
    "        loss = nll_loss(logits, y)\n",
    "        self.log(\"validation_loss\", loss, prog_bar=True)\n",
    "\n",
    "        preds = torch.argmax(logits, dim=1)\n",
    "        output = self.train_metrics(preds, y)\n",
    "        self.log_dict(output)\n",
    "\n",
    "    def test_step(self, batch, batch_idx):\n",
    "        x, y = batch\n",
    "        logits = self(x)\n",
    "        loss = nll_loss(logits, y)\n",
    "        self.log(\"test_loss\", loss, prog_bar=True)\n",
    "        preds = torch.argmax(logits, dim=1)\n",
    "\n",
    "        output = self.test_metrics(preds, y)\n",
    "        self.log_dict(output)"
   ],
   "metadata": {
    "collapsed": false,
    "pycharm": {
     "name": "#%%\n"
    }
   }
  },
  {
   "cell_type": "code",
   "execution_count": 5,
   "outputs": [
    {
     "name": "stderr",
     "output_type": "stream",
     "text": [
      "Auto select gpus: [0]\n",
      "GPU available: True (cuda), used: True\n",
      "TPU available: False, using: 0 TPU cores\n",
      "IPU available: False, using: 0 IPUs\n",
      "HPU available: False, using: 0 HPUs\n",
      "LOCAL_RANK: 0 - CUDA_VISIBLE_DEVICES: [0]\n",
      "\n",
      "  | Name          | Type             | Params\n",
      "---------------------------------------------------\n",
      "0 | l1            | Linear           | 310   \n",
      "1 | a1            | ReLU             | 0     \n",
      "2 | l2            | Linear           | 22    \n",
      "3 | train_metrics | MetricCollection | 0     \n",
      "4 | valid_metrics | MetricCollection | 0     \n",
      "5 | test_metrics  | MetricCollection | 0     \n",
      "---------------------------------------------------\n",
      "332       Trainable params\n",
      "0         Non-trainable params\n",
      "332       Total params\n",
      "0.001     Total estimated model params size (MB)\n"
     ]
    },
    {
     "data": {
      "text/plain": "Sanity Checking: 0it [00:00, ?it/s]",
      "application/vnd.jupyter.widget-view+json": {
       "version_major": 2,
       "version_minor": 0,
       "model_id": "7fe1c07be5454eeeb88dc25c62477532"
      }
     },
     "metadata": {},
     "output_type": "display_data"
    },
    {
     "name": "stderr",
     "output_type": "stream",
     "text": [
      "C:\\Users\\micdu\\Code\\pythonProject\\dmtl\\venv\\lib\\site-packages\\pytorch_lightning\\trainer\\connectors\\data_connector.py:224: PossibleUserWarning: The dataloader, val_dataloader 0, does not have many workers which may be a bottleneck. Consider increasing the value of the `num_workers` argument` (try 12 which is the number of cpus on this machine) in the `DataLoader` init to improve performance.\n",
      "  rank_zero_warn(\n",
      "C:\\Users\\micdu\\Code\\pythonProject\\dmtl\\venv\\lib\\site-packages\\pytorch_lightning\\trainer\\connectors\\data_connector.py:224: PossibleUserWarning: The dataloader, train_dataloader, does not have many workers which may be a bottleneck. Consider increasing the value of the `num_workers` argument` (try 12 which is the number of cpus on this machine) in the `DataLoader` init to improve performance.\n",
      "  rank_zero_warn(\n"
     ]
    },
    {
     "data": {
      "text/plain": "Training: 0it [00:00, ?it/s]",
      "application/vnd.jupyter.widget-view+json": {
       "version_major": 2,
       "version_minor": 0,
       "model_id": "e4c269092db44569a550227d646ad81d"
      }
     },
     "metadata": {},
     "output_type": "display_data"
    },
    {
     "data": {
      "text/plain": "Validation: 0it [00:00, ?it/s]",
      "application/vnd.jupyter.widget-view+json": {
       "version_major": 2,
       "version_minor": 0,
       "model_id": "9e17a524df234f849b9c4ad99b6cba84"
      }
     },
     "metadata": {},
     "output_type": "display_data"
    },
    {
     "data": {
      "text/plain": "Validation: 0it [00:00, ?it/s]",
      "application/vnd.jupyter.widget-view+json": {
       "version_major": 2,
       "version_minor": 0,
       "model_id": "b6d6331eabeb447191d1742741a5fdf5"
      }
     },
     "metadata": {},
     "output_type": "display_data"
    },
    {
     "data": {
      "text/plain": "Validation: 0it [00:00, ?it/s]",
      "application/vnd.jupyter.widget-view+json": {
       "version_major": 2,
       "version_minor": 0,
       "model_id": "000f44051c35470eb0590b86f1e0866f"
      }
     },
     "metadata": {},
     "output_type": "display_data"
    },
    {
     "name": "stderr",
     "output_type": "stream",
     "text": [
      "`Trainer.fit` stopped: `max_epochs=3` reached.\n"
     ]
    },
    {
     "data": {
      "text/plain": "<src.base.training.models.experiment.Experiment at 0x259d1841280>"
     },
     "execution_count": 5,
     "metadata": {},
     "output_type": "execute_result"
    }
   ],
   "source": [
    "model = FraudDetection()\n",
    "train(model, epochs=3)"
   ],
   "metadata": {
    "collapsed": false,
    "pycharm": {
     "name": "#%%\n"
    }
   }
  },
  {
   "cell_type": "code",
   "execution_count": 6,
   "outputs": [
    {
     "name": "stderr",
     "output_type": "stream",
     "text": [
      "Auto select gpus: [0]\n",
      "GPU available: True (cuda), used: True\n",
      "TPU available: False, using: 0 TPU cores\n",
      "IPU available: False, using: 0 IPUs\n",
      "HPU available: False, using: 0 HPUs\n",
      "LOCAL_RANK: 0 - CUDA_VISIBLE_DEVICES: [0]\n",
      "C:\\Users\\micdu\\Code\\pythonProject\\dmtl\\venv\\lib\\site-packages\\pytorch_lightning\\trainer\\connectors\\data_connector.py:224: PossibleUserWarning: The dataloader, test_dataloader 0, does not have many workers which may be a bottleneck. Consider increasing the value of the `num_workers` argument` (try 12 which is the number of cpus on this machine) in the `DataLoader` init to improve performance.\n",
      "  rank_zero_warn(\n"
     ]
    },
    {
     "data": {
      "text/plain": "Testing: 0it [00:00, ?it/s]",
      "application/vnd.jupyter.widget-view+json": {
       "version_major": 2,
       "version_minor": 0,
       "model_id": "0c0c6c8a15c24faebd81a77216ab256e"
      }
     },
     "metadata": {},
     "output_type": "display_data"
    },
    {
     "name": "stdout",
     "output_type": "stream",
     "text": [
      "────────────────────────────────────────────────────────────────────────────────────────────────────────────────────────\r\n",
      "       Test metric             DataLoader 0\r\n",
      "────────────────────────────────────────────────────────────────────────────────────────────────────────────────────────\r\n",
      "      test_Accuracy         0.9233173131942749\r\n",
      "      test_F1Score          0.9233173131942749\r\n",
      "     test_Precision         0.9233173131942749\r\n",
      "       test_Recall          0.9233173131942749\r\n",
      "        test_loss           0.6217462420463562\r\n",
      "────────────────────────────────────────────────────────────────────────────────────────────────────────────────────────\n"
     ]
    },
    {
     "data": {
      "text/plain": "<src.base.training.models.experiment.Experiment at 0x259e22d3820>"
     },
     "execution_count": 6,
     "metadata": {},
     "output_type": "execute_result"
    }
   ],
   "source": [
    "test(model)"
   ],
   "metadata": {
    "collapsed": false,
    "pycharm": {
     "name": "#%%\n"
    }
   }
  }
 ],
 "metadata": {
  "kernelspec": {
   "display_name": "Python 3",
   "language": "python",
   "name": "python3"
  },
  "language_info": {
   "codemirror_mode": {
    "name": "ipython",
    "version": 2
   },
   "file_extension": ".py",
   "mimetype": "text/x-python",
   "name": "python",
   "nbconvert_exporter": "python",
   "pygments_lexer": "ipython2",
   "version": "2.7.6"
  }
 },
 "nbformat": 4,
 "nbformat_minor": 0
}