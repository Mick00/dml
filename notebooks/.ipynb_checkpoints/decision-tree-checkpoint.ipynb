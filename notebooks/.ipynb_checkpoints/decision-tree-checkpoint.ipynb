{
 "cells": [
  {
   "cell_type": "code",
   "execution_count": 1,
   "metadata": {
    "pycharm": {
     "name": "#%%\n"
    }
   },
   "outputs": [],
   "source": [
    "import numpy as np\n",
    "import torch\n",
    "from sklearn import svm\n",
    "from sklearn.decomposition import PCA\n",
    "from sklearn.ensemble import RandomForestClassifier\n",
    "from sklearn.metrics import classification_report\n",
    "from sklearn.naive_bayes import GaussianNB\n",
    "from sklearn.neighbors import NearestNeighbors, KNeighborsClassifier, NeighborhoodComponentsAnalysis\n",
    "from sklearn.pipeline import Pipeline\n",
    "from torch.utils.data import DataLoader\n",
    "from torchvision import datasets\n",
    "from torchvision.transforms import ToTensor\n",
    "\n",
    "from sklearn.tree import DecisionTreeClassifier\n",
    "from sklearn.tree import export_text\n",
    "\n",
    "from src.base.training.models.architectures.lenet import LeNet\n",
    "from src.base.training.models.architectures.lenet_light import LeNetLight"
   ]
  },
  {
   "cell_type": "code",
   "execution_count": 2,
   "metadata": {
    "pycharm": {
     "name": "#%%\n"
    }
   },
   "outputs": [],
   "source": [
    "DATA_PATH = \"C:\\\\Users\\\\micdu\\\\Code\\\\pythonProject\\\\dmtl\\\\data\"\n",
    "\n",
    "def load_samples(dataset_fn, n_samples, train=True):\n",
    "    dataset = dataset_fn(\n",
    "        DATA_PATH,\n",
    "        train=train,\n",
    "        download=True,\n",
    "        transform=ToTensor()\n",
    "    )\n",
    "    loader = DataLoader(dataset, batch_size=n_samples)\n",
    "    return next(iter(loader))\n",
    "\n",
    "def shuffle(x, y):\n",
    "    shuffle_index = torch.randperm(x.shape[0])\n",
    "    return x[shuffle_index], y[shuffle_index]\n",
    "\n",
    "def load_model(model_fn, path):\n",
    "    model = model_fn()\n",
    "    model.load_state_dict(torch.load(path))\n",
    "    model.eval()\n",
    "    return model\n",
    "\n",
    "def load_and_prepare(n_samples=100, train=True, model_fn=LeNet):\n",
    "    fmnist_x, fmnist_y = load_samples(datasets.FashionMNIST, int(n_samples/2), train=train)\n",
    "    mnist_x, mnist_y = load_samples(datasets.MNIST, int(n_samples/2), train=train)\n",
    "    # Off setting the fmnist labels\n",
    "    fmnist_y = fmnist_y + 10\n",
    "    x, y = shuffle(\n",
    "        torch.cat((mnist_x, fmnist_x), dim=0),\n",
    "        torch.cat((mnist_y, fmnist_y), dim=0)\n",
    "    )\n",
    "    mnist_cluster = load_model(model_fn, \"C:\\\\Users\\\\micdu\\\\Code\\\\pythonProject\\\\dmtl\\\\notebooks\\\\models\\\\daeclust_15\\\\5aa285fe2dad84e59107a2652432eeac66db9c709fe2719ba74bd80caa7f493a\\\\final_model.state\")\n",
    "    fmnist_cluster = load_model(model_fn, \"C:\\\\Users\\\\micdu\\\\Code\\\\pythonProject\\\\dmtl\\\\notebooks\\\\models\\\\daeclust_15\\\\e5307874a84923007d15c8c019aa67d7756478bd3466d17a14b856a76e6ee29d\\\\final_model.state\")\n",
    "\n",
    "    out_mnist = mnist_cluster(x)\n",
    "    out_fmnist = fmnist_cluster(x)\n",
    "    x_out = torch.cat((out_fmnist, out_mnist), dim=1)\n",
    "    return x_out.detach().numpy(), y.detach().numpy()"
   ]
  },
  {
   "cell_type": "code",
   "execution_count": 3,
   "metadata": {
    "pycharm": {
     "name": "#%%\n"
    }
   },
   "outputs": [],
   "source": [
    "x_train, y_train = load_and_prepare(model_fn=LeNetLight, n_samples=400, train=True)\n",
    "x_test, y_test = load_and_prepare(model_fn=LeNetLight, n_samples=400, train=False)"
   ]
  },
  {
   "cell_type": "code",
   "execution_count": 4,
   "metadata": {
    "pycharm": {
     "name": "#%%\n"
    }
   },
   "outputs": [
    {
     "data": {
      "text/plain": [
       "array([21, 26, 20, 21, 21, 13, 19, 21, 15, 23, 24, 26, 18, 17, 18, 20, 21,\n",
       "       21, 16, 19], dtype=int64)"
      ]
     },
     "execution_count": 4,
     "metadata": {},
     "output_type": "execute_result"
    }
   ],
   "source": [
    "np.bincount(y_train)"
   ]
  },
  {
   "cell_type": "code",
   "execution_count": 5,
   "metadata": {
    "pycharm": {
     "name": "#%%\n"
    }
   },
   "outputs": [],
   "source": [
    "pca = PCA(n_components=10)\n",
    "x_pca_train = pca.fit_transform(x_train)\n",
    "x_pca_test = pca.transform(x_test)"
   ]
  },
  {
   "cell_type": "code",
   "execution_count": 6,
   "metadata": {
    "pycharm": {
     "name": "#%%\n"
    }
   },
   "outputs": [],
   "source": [
    "decision_tree = DecisionTreeClassifier(random_state=0, max_depth=3)\n",
    "decision_tree = decision_tree.fit(x_train, y_train)"
   ]
  },
  {
   "cell_type": "code",
   "execution_count": 14,
   "metadata": {
    "pycharm": {
     "name": "#%%\n"
    }
   },
   "outputs": [
    {
     "name": "stderr",
     "output_type": "stream",
     "text": [
      "C:\\Users\\micdu\\Code\\pythonProject\\dmtl\\venv\\lib\\site-packages\\sklearn\\metrics\\_classification.py:1344: UndefinedMetricWarning: Recall and F-score are ill-defined and being set to 0.0 in labels with no true samples. Use `zero_division` parameter to control this behavior.\n",
      "  _warn_prf(average, modifier, msg_start, len(result))\n",
      "C:\\Users\\micdu\\Code\\pythonProject\\dmtl\\venv\\lib\\site-packages\\sklearn\\metrics\\_classification.py:1344: UndefinedMetricWarning: Recall and F-score are ill-defined and being set to 0.0 in labels with no true samples. Use `zero_division` parameter to control this behavior.\n",
      "  _warn_prf(average, modifier, msg_start, len(result))\n",
      "C:\\Users\\micdu\\Code\\pythonProject\\dmtl\\venv\\lib\\site-packages\\sklearn\\metrics\\_classification.py:1344: UndefinedMetricWarning: Recall and F-score are ill-defined and being set to 0.0 in labels with no true samples. Use `zero_division` parameter to control this behavior.\n",
      "  _warn_prf(average, modifier, msg_start, len(result))\n"
     ]
    },
    {
     "data": {
      "text/plain": [
       "{'0': {'precision': 1.0, 'recall': 1.0, 'f1-score': 1.0, 'support': 17},\n",
       " '1': {'precision': 1.0,\n",
       "  'recall': 0.9655172413793104,\n",
       "  'f1-score': 0.9824561403508771,\n",
       "  'support': 29},\n",
       " '2': {'precision': 0.0, 'recall': 0.0, 'f1-score': 0.0, 'support': 0},\n",
       " '3': {'precision': 0.0, 'recall': 0.0, 'f1-score': 0.0, 'support': 0},\n",
       " '4': {'precision': 0.0, 'recall': 0.0, 'f1-score': 0.0, 'support': 0},\n",
       " '5': {'precision': 0.0, 'recall': 0.0, 'f1-score': 0.0, 'support': 0},\n",
       " '6': {'precision': 0.0, 'recall': 0.0, 'f1-score': 0.0, 'support': 0},\n",
       " '7': {'precision': 0.0, 'recall': 0.0, 'f1-score': 0.0, 'support': 0},\n",
       " '8': {'precision': 0.0, 'recall': 0.0, 'f1-score': 0.0, 'support': 0},\n",
       " '9': {'precision': 0.0, 'recall': 0.0, 'f1-score': 0.0, 'support': 0},\n",
       " '10': {'precision': 1.0,\n",
       "  'recall': 0.06097560975609756,\n",
       "  'f1-score': 0.11494252873563218,\n",
       "  'support': 328},\n",
       " '11': {'precision': 0.9629629629629629,\n",
       "  'recall': 1.0,\n",
       "  'f1-score': 0.9811320754716981,\n",
       "  'support': 26},\n",
       " '12': {'precision': 0.0, 'recall': 0.0, 'f1-score': 0.0, 'support': 0},\n",
       " '13': {'precision': 0.0, 'recall': 0.0, 'f1-score': 0.0, 'support': 0},\n",
       " '14': {'precision': 0.0, 'recall': 0.0, 'f1-score': 0.0, 'support': 0},\n",
       " '15': {'precision': 0.0, 'recall': 0.0, 'f1-score': 0.0, 'support': 0},\n",
       " '16': {'precision': 0.0, 'recall': 0.0, 'f1-score': 0.0, 'support': 0},\n",
       " '17': {'precision': 0.0, 'recall': 0.0, 'f1-score': 0.0, 'support': 0},\n",
       " '18': {'precision': 0.0, 'recall': 0.0, 'f1-score': 0.0, 'support': 0},\n",
       " '19': {'precision': 0.0, 'recall': 0.0, 'f1-score': 0.0, 'support': 0},\n",
       " 'accuracy': 0.2275,\n",
       " 'macro avg': {'precision': 0.19814814814814813,\n",
       "  'recall': 0.15132464255677042,\n",
       "  'f1-score': 0.1539265372279104,\n",
       "  'support': 400},\n",
       " 'weighted avg': {'precision': 0.9975925925925925,\n",
       "  'recall': 0.2275,\n",
       "  'f1-score': 0.2717545286443174,\n",
       "  'support': 400}}"
      ]
     },
     "execution_count": 14,
     "metadata": {},
     "output_type": "execute_result"
    }
   ],
   "source": [
    "tree_pred = decision_tree.predict(x_test)\n",
    "classification_report(tree_pred, y_test, output_dict=True)"
   ]
  },
  {
   "cell_type": "code",
   "execution_count": 8,
   "metadata": {
    "pycharm": {
     "name": "#%%\n"
    }
   },
   "outputs": [
    {
     "data": {
      "text/html": [
       "<style>#sk-container-id-1 {color: black;background-color: white;}#sk-container-id-1 pre{padding: 0;}#sk-container-id-1 div.sk-toggleable {background-color: white;}#sk-container-id-1 label.sk-toggleable__label {cursor: pointer;display: block;width: 100%;margin-bottom: 0;padding: 0.3em;box-sizing: border-box;text-align: center;}#sk-container-id-1 label.sk-toggleable__label-arrow:before {content: \"▸\";float: left;margin-right: 0.25em;color: #696969;}#sk-container-id-1 label.sk-toggleable__label-arrow:hover:before {color: black;}#sk-container-id-1 div.sk-estimator:hover label.sk-toggleable__label-arrow:before {color: black;}#sk-container-id-1 div.sk-toggleable__content {max-height: 0;max-width: 0;overflow: hidden;text-align: left;background-color: #f0f8ff;}#sk-container-id-1 div.sk-toggleable__content pre {margin: 0.2em;color: black;border-radius: 0.25em;background-color: #f0f8ff;}#sk-container-id-1 input.sk-toggleable__control:checked~div.sk-toggleable__content {max-height: 200px;max-width: 100%;overflow: auto;}#sk-container-id-1 input.sk-toggleable__control:checked~label.sk-toggleable__label-arrow:before {content: \"▾\";}#sk-container-id-1 div.sk-estimator input.sk-toggleable__control:checked~label.sk-toggleable__label {background-color: #d4ebff;}#sk-container-id-1 div.sk-label input.sk-toggleable__control:checked~label.sk-toggleable__label {background-color: #d4ebff;}#sk-container-id-1 input.sk-hidden--visually {border: 0;clip: rect(1px 1px 1px 1px);clip: rect(1px, 1px, 1px, 1px);height: 1px;margin: -1px;overflow: hidden;padding: 0;position: absolute;width: 1px;}#sk-container-id-1 div.sk-estimator {font-family: monospace;background-color: #f0f8ff;border: 1px dotted black;border-radius: 0.25em;box-sizing: border-box;margin-bottom: 0.5em;}#sk-container-id-1 div.sk-estimator:hover {background-color: #d4ebff;}#sk-container-id-1 div.sk-parallel-item::after {content: \"\";width: 100%;border-bottom: 1px solid gray;flex-grow: 1;}#sk-container-id-1 div.sk-label:hover label.sk-toggleable__label {background-color: #d4ebff;}#sk-container-id-1 div.sk-serial::before {content: \"\";position: absolute;border-left: 1px solid gray;box-sizing: border-box;top: 0;bottom: 0;left: 50%;z-index: 0;}#sk-container-id-1 div.sk-serial {display: flex;flex-direction: column;align-items: center;background-color: white;padding-right: 0.2em;padding-left: 0.2em;position: relative;}#sk-container-id-1 div.sk-item {position: relative;z-index: 1;}#sk-container-id-1 div.sk-parallel {display: flex;align-items: stretch;justify-content: center;background-color: white;position: relative;}#sk-container-id-1 div.sk-item::before, #sk-container-id-1 div.sk-parallel-item::before {content: \"\";position: absolute;border-left: 1px solid gray;box-sizing: border-box;top: 0;bottom: 0;left: 50%;z-index: -1;}#sk-container-id-1 div.sk-parallel-item {display: flex;flex-direction: column;z-index: 1;position: relative;background-color: white;}#sk-container-id-1 div.sk-parallel-item:first-child::after {align-self: flex-end;width: 50%;}#sk-container-id-1 div.sk-parallel-item:last-child::after {align-self: flex-start;width: 50%;}#sk-container-id-1 div.sk-parallel-item:only-child::after {width: 0;}#sk-container-id-1 div.sk-dashed-wrapped {border: 1px dashed gray;margin: 0 0.4em 0.5em 0.4em;box-sizing: border-box;padding-bottom: 0.4em;background-color: white;}#sk-container-id-1 div.sk-label label {font-family: monospace;font-weight: bold;display: inline-block;line-height: 1.2em;}#sk-container-id-1 div.sk-label-container {text-align: center;}#sk-container-id-1 div.sk-container {/* jupyter's `normalize.less` sets `[hidden] { display: none; }` but bootstrap.min.css set `[hidden] { display: none !important; }` so we also need the `!important` here to be able to override the default hidden behavior on the sphinx rendered scikit-learn.org. See: https://github.com/scikit-learn/scikit-learn/issues/21755 */display: inline-block !important;position: relative;}#sk-container-id-1 div.sk-text-repr-fallback {display: none;}</style><div id=\"sk-container-id-1\" class=\"sk-top-container\"><div class=\"sk-text-repr-fallback\"><pre>SVC()</pre><b>In a Jupyter environment, please rerun this cell to show the HTML representation or trust the notebook. <br />On GitHub, the HTML representation is unable to render, please try loading this page with nbviewer.org.</b></div><div class=\"sk-container\" hidden><div class=\"sk-item\"><div class=\"sk-estimator sk-toggleable\"><input class=\"sk-toggleable__control sk-hidden--visually\" id=\"sk-estimator-id-1\" type=\"checkbox\" checked><label for=\"sk-estimator-id-1\" class=\"sk-toggleable__label sk-toggleable__label-arrow\">SVC</label><div class=\"sk-toggleable__content\"><pre>SVC()</pre></div></div></div></div></div>"
      ],
      "text/plain": [
       "SVC()"
      ]
     },
     "execution_count": 8,
     "metadata": {},
     "output_type": "execute_result"
    }
   ],
   "source": [
    "# LinearSVC, ovo, ovr\n",
    "svm_clf = svm.SVC()\n",
    "svm_clf.fit(x_train, y_train)"
   ]
  },
  {
   "cell_type": "code",
   "execution_count": 9,
   "metadata": {
    "pycharm": {
     "name": "#%%\n"
    }
   },
   "outputs": [
    {
     "data": {
      "text/plain": [
       "'              precision    recall  f1-score   support\\n\\n           0       1.00      1.00      1.00        17\\n           1       1.00      0.97      0.98        29\\n           2       0.94      1.00      0.97        15\\n           3       0.94      1.00      0.97        15\\n           4       0.96      1.00      0.98        27\\n           5       0.95      0.95      0.95        20\\n           6       1.00      1.00      1.00        20\\n           7       0.96      1.00      0.98        23\\n           8       1.00      0.67      0.80        15\\n           9       0.95      1.00      0.98        20\\n          10       0.95      0.90      0.93        21\\n          11       0.96      1.00      0.98        26\\n          12       0.74      0.67      0.70        30\\n          13       0.76      0.93      0.84        14\\n          14       0.57      0.80      0.67        15\\n          15       0.94      0.79      0.86        19\\n          16       0.62      0.56      0.59        18\\n          17       0.85      0.85      0.85        20\\n          18       0.94      1.00      0.97        17\\n          19       0.89      0.84      0.86        19\\n\\n    accuracy                           0.90       400\\n   macro avg       0.90      0.90      0.89       400\\nweighted avg       0.90      0.90      0.90       400\\n'"
      ]
     },
     "execution_count": 9,
     "metadata": {},
     "output_type": "execute_result"
    }
   ],
   "source": [
    "svm_pred = svm_clf.predict(x_test)\n",
    "classification_report(svm_pred, y_test)"
   ]
  },
  {
   "cell_type": "code",
   "execution_count": 10,
   "metadata": {
    "pycharm": {
     "name": "#%%\n"
    }
   },
   "outputs": [
    {
     "data": {
      "text/plain": [
       "'              precision    recall  f1-score   support\\n\\n           0       1.00      1.00      1.00        17\\n           1       1.00      1.00      1.00        28\\n           2       1.00      0.84      0.91        19\\n           3       0.81      1.00      0.90        13\\n           4       0.96      0.96      0.96        28\\n           5       0.95      0.86      0.90        22\\n           6       1.00      1.00      1.00        20\\n           7       0.96      1.00      0.98        23\\n           8       0.90      0.69      0.78        13\\n           9       0.95      1.00      0.98        20\\n          10       0.95      0.83      0.88        23\\n          11       0.96      1.00      0.98        26\\n          12       0.74      0.71      0.73        28\\n          13       0.76      0.93      0.84        14\\n          14       0.52      0.73      0.61        15\\n          15       0.94      0.83      0.88        18\\n          16       0.69      0.52      0.59        21\\n          17       0.85      0.89      0.87        19\\n          18       0.94      1.00      0.97        17\\n          19       0.83      0.94      0.88        16\\n\\n    accuracy                           0.89       400\\n   macro avg       0.89      0.89      0.88       400\\nweighted avg       0.90      0.89      0.89       400\\n'"
      ]
     },
     "execution_count": 10,
     "metadata": {},
     "output_type": "execute_result"
    }
   ],
   "source": [
    "# https://scikit-learn.org/stable/modules/naive_bayes.html\n",
    "gnb = GaussianNB()\n",
    "gnb = gnb.fit(x_train, y_train)\n",
    "gnb_pred = gnb.predict(x_test)\n",
    "classification_report(gnb_pred, y_test)"
   ]
  },
  {
   "cell_type": "code",
   "execution_count": 11,
   "metadata": {
    "pycharm": {
     "name": "#%%\n"
    }
   },
   "outputs": [],
   "source": [
    "# https://scikit-learn.org/stable/modules/neighbors.html\n",
    "nbrs = NearestNeighbors(n_neighbors=3, algorithm='ball_tree').fit(x_train)\n",
    "distances, indices = nbrs.kneighbors(x_test)"
   ]
  },
  {
   "cell_type": "code",
   "execution_count": 12,
   "metadata": {
    "pycharm": {
     "name": "#%%\n"
    }
   },
   "outputs": [
    {
     "data": {
      "text/plain": [
       "'              precision    recall  f1-score   support\\n\\n           0       1.00      1.00      1.00        17\\n           1       1.00      1.00      1.00        28\\n           2       0.94      0.94      0.94        16\\n           3       0.94      0.94      0.94        16\\n           4       0.93      1.00      0.96        26\\n           5       0.95      0.90      0.93        21\\n           6       1.00      1.00      1.00        20\\n           7       0.96      0.96      0.96        24\\n           8       1.00      0.62      0.77        16\\n           9       0.81      0.94      0.87        18\\n          10       0.75      0.83      0.79        18\\n          11       0.96      1.00      0.98        26\\n          12       0.85      0.72      0.78        32\\n          13       0.82      0.88      0.85        16\\n          14       0.52      0.73      0.61        15\\n          15       0.94      1.00      0.97        15\\n          16       0.69      0.58      0.63        19\\n          17       0.85      0.89      0.87        19\\n          18       0.94      0.94      0.94        18\\n          19       0.94      0.85      0.89        20\\n\\n    accuracy                           0.89       400\\n   macro avg       0.89      0.89      0.88       400\\nweighted avg       0.90      0.89      0.89       400\\n'"
      ]
     },
     "execution_count": 12,
     "metadata": {},
     "output_type": "execute_result"
    }
   ],
   "source": [
    "nca = NeighborhoodComponentsAnalysis(random_state=42)\n",
    "knn = KNeighborsClassifier(n_neighbors=3)\n",
    "nca_pipe = Pipeline([('nca', nca), ('knn', knn)])\n",
    "nca_pipe.fit(x_train, y_train)\n",
    "nca_knn_preds = nca_pipe.predict(x_test)\n",
    "classification_report(nca_knn_preds, y_test)"
   ]
  },
  {
   "cell_type": "code",
   "execution_count": 13,
   "metadata": {
    "pycharm": {
     "name": "#%%\n"
    }
   },
   "outputs": [
    {
     "name": "stderr",
     "output_type": "stream",
     "text": [
      "C:\\Users\\micdu\\Code\\pythonProject\\dmtl\\venv\\lib\\site-packages\\sklearn\\metrics\\_classification.py:1344: UndefinedMetricWarning: Recall and F-score are ill-defined and being set to 0.0 in labels with no true samples. Use `zero_division` parameter to control this behavior.\n",
      "  _warn_prf(average, modifier, msg_start, len(result))\n",
      "C:\\Users\\micdu\\Code\\pythonProject\\dmtl\\venv\\lib\\site-packages\\sklearn\\metrics\\_classification.py:1344: UndefinedMetricWarning: Recall and F-score are ill-defined and being set to 0.0 in labels with no true samples. Use `zero_division` parameter to control this behavior.\n",
      "  _warn_prf(average, modifier, msg_start, len(result))\n",
      "C:\\Users\\micdu\\Code\\pythonProject\\dmtl\\venv\\lib\\site-packages\\sklearn\\metrics\\_classification.py:1344: UndefinedMetricWarning: Recall and F-score are ill-defined and being set to 0.0 in labels with no true samples. Use `zero_division` parameter to control this behavior.\n",
      "  _warn_prf(average, modifier, msg_start, len(result))\n"
     ]
    },
    {
     "data": {
      "text/plain": [
       "'              precision    recall  f1-score   support\\n\\n           0       1.00      1.00      1.00        17\\n           1       1.00      0.97      0.98        29\\n           2       1.00      0.94      0.97        17\\n           3       0.94      1.00      0.97        15\\n           4       1.00      0.93      0.97        30\\n           5       0.00      0.00      0.00         0\\n           6       0.95      1.00      0.97        19\\n           7       0.96      1.00      0.98        23\\n           8       0.30      1.00      0.46         3\\n           9       1.00      1.00      1.00        21\\n          10       1.00      0.22      0.37        89\\n          11       0.96      1.00      0.98        26\\n          12       0.78      0.75      0.76        28\\n          13       0.00      0.00      0.00         0\\n          14       0.00      0.00      0.00         0\\n          15       0.94      1.00      0.97        15\\n          16       0.75      0.67      0.71        18\\n          17       0.85      0.89      0.87        19\\n          18       0.67      1.00      0.80        12\\n          19       0.89      0.84      0.86        19\\n\\n    accuracy                           0.77       400\\n   macro avg       0.75      0.76      0.73       400\\nweighted avg       0.93      0.77      0.80       400\\n'"
      ]
     },
     "execution_count": 13,
     "metadata": {},
     "output_type": "execute_result"
    }
   ],
   "source": [
    "rnd_forest = RandomForestClassifier(max_depth=3, random_state=0)\n",
    "rnd_forest.fit(x_train, y_train)\n",
    "forest_pred = rnd_forest.predict(x_test)\n",
    "classification_report(forest_pred, y_test)"
   ]
  }
 ],
 "metadata": {
  "kernelspec": {
   "display_name": "Python 3 (ipykernel)",
   "language": "python",
   "name": "python3"
  },
  "language_info": {
   "codemirror_mode": {
    "name": "ipython",
    "version": 3
   },
   "file_extension": ".py",
   "mimetype": "text/x-python",
   "name": "python",
   "nbconvert_exporter": "python",
   "pygments_lexer": "ipython3",
   "version": "3.9.6"
  }
 },
 "nbformat": 4,
 "nbformat_minor": 1
}
