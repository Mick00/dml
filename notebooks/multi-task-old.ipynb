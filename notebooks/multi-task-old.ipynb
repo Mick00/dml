{
 "cells": [
  {
   "cell_type": "code",
   "execution_count": 14,
   "metadata": {
    "pycharm": {
     "name": "#%%\n"
    }
   },
   "outputs": [],
   "source": [
    "import numpy as np\n",
    "import torch\n",
    "from sklearn import svm\n",
    "from sklearn.decomposition import PCA\n",
    "from sklearn.ensemble import RandomForestClassifier\n",
    "from sklearn.metrics import classification_report\n",
    "from sklearn.naive_bayes import GaussianNB\n",
    "from sklearn.neighbors import NearestNeighbors, KNeighborsClassifier, NeighborhoodComponentsAnalysis\n",
    "from sklearn.pipeline import Pipeline\n",
    "from torch.utils.data import DataLoader\n",
    "from torchvision import datasets\n",
    "from torchvision.transforms import ToTensor\n",
    "\n",
    "from sklearn.tree import DecisionTreeClassifier\n",
    "from sklearn.tree import export_text\n",
    "\n",
    "from src.base.training.models.architectures.lenet import LeNet\n",
    "from src.base.training.models.architectures.lenet_light import LeNetLight"
   ]
  },
  {
   "cell_type": "code",
   "execution_count": 15,
   "metadata": {
    "pycharm": {
     "name": "#%%\n"
    }
   },
   "outputs": [],
   "source": [
    "DATA_PATH = \"C:\\\\Users\\\\micdu\\\\Code\\\\pythonProject\\\\dmtl\\\\data\"\n",
    "\n",
    "def load_samples(dataset_fn, n_samples, train=True):\n",
    "    dataset = dataset_fn(\n",
    "        DATA_PATH,\n",
    "        train=train,\n",
    "        download=True,\n",
    "        transform=ToTensor()\n",
    "    )\n",
    "    loader = DataLoader(dataset, batch_size=n_samples)\n",
    "    return next(iter(loader))\n",
    "\n",
    "def shuffle(x, y):\n",
    "    shuffle_index = torch.randperm(x.shape[0])\n",
    "    return x[shuffle_index], y[shuffle_index]\n",
    "\n",
    "def load_model(model_fn, path):\n",
    "    model = model_fn()\n",
    "    model.load_state_dict(torch.load(path))\n",
    "    model.eval()\n",
    "    return model\n",
    "\n",
    "def use_models(x, model_fn, paths):\n",
    "    x_out = load_model(model_fn, paths[0])(x)\n",
    "    for path in paths[1:]:\n",
    "        model = load_model(model_fn, path)\n",
    "        x_out = torch.cat((x_out, model(x)), dim=1)\n",
    "    return x_out\n",
    "\n",
    "def load_and_prepare(n_samples=100, train=True, model_fn=LeNet):\n",
    "    fmnist_x, fmnist_y = load_samples(datasets.FashionMNIST, int(n_samples/2), train=train)\n",
    "    mnist_x, mnist_y = load_samples(datasets.MNIST, int(n_samples/2), train=train)\n",
    "    # Off setting the fmnist labels\n",
    "    fmnist_y = fmnist_y + 10\n",
    "    x, y = shuffle(\n",
    "        torch.cat((mnist_x, fmnist_x), dim=0),\n",
    "        torch.cat((mnist_y, fmnist_y), dim=0)\n",
    "    )\n",
    "    x_out = use_models(x, model_fn, [\n",
    "        \"C:\\\\Users\\\\micdu\\\\Code\\\\pythonProject\\\\dmtl\\\\notebooks\\\\models\\\\daeclust_15\\\\5aa285fe2dad84e59107a2652432eeac66db9c709fe2719ba74bd80caa7f493a\\\\final_model.state\",\n",
    "        \"C:\\\\Users\\\\micdu\\\\Code\\\\pythonProject\\\\dmtl\\\\notebooks\\\\models\\\\daeclust_15\\\\e5307874a84923007d15c8c019aa67d7756478bd3466d17a14b856a76e6ee29d\\\\final_model.state\"\n",
    "    ])\n",
    "    return x_out.detach().numpy(), y.detach().numpy()"
   ]
  },
  {
   "cell_type": "code",
   "execution_count": 16,
   "metadata": {
    "pycharm": {
     "name": "#%%\n"
    }
   },
   "outputs": [],
   "source": [
    "x_train, y_train = load_and_prepare(model_fn=LeNetLight, n_samples=400, train=True)\n",
    "x_test, y_test = load_and_prepare(model_fn=LeNetLight, n_samples=800, train=False)"
   ]
  },
  {
   "cell_type": "code",
   "execution_count": 17,
   "metadata": {
    "pycharm": {
     "name": "#%%\n"
    }
   },
   "outputs": [
    {
     "data": {
      "text/plain": "(array([21, 26, 20, 21, 21, 13, 19, 21, 15, 23, 24, 26, 18, 17, 18, 20, 21,\n        21, 16, 19], dtype=int64),\n array([33, 57, 44, 35, 46, 42, 34, 41, 27, 41, 42, 44, 54, 36, 43, 32, 39,\n        40, 34, 36], dtype=int64))"
     },
     "execution_count": 17,
     "metadata": {},
     "output_type": "execute_result"
    }
   ],
   "source": [
    "np.bincount(y_train), np.bincount(y_test)"
   ]
  },
  {
   "cell_type": "code",
   "execution_count": 5,
   "metadata": {
    "pycharm": {
     "name": "#%%\n"
    }
   },
   "outputs": [],
   "source": [
    "pca = PCA(n_components=10)\n",
    "x_pca_train = pca.fit_transform(x_train)\n",
    "x_pca_test = pca.transform(x_test)"
   ]
  },
  {
   "cell_type": "code",
   "execution_count": 20,
   "metadata": {
    "pycharm": {
     "name": "#%%\n"
    }
   },
   "outputs": [],
   "source": [
    "decision_tree = DecisionTreeClassifier(random_state=0, max_depth=20)\n",
    "decision_tree = decision_tree.fit(x_train, y_train)"
   ]
  },
  {
   "cell_type": "code",
   "execution_count": 21,
   "metadata": {
    "pycharm": {
     "name": "#%%\n"
    }
   },
   "outputs": [
    {
     "data": {
      "text/plain": "{'0': {'precision': 0.9696969696969697,\n  'recall': 1.0,\n  'f1-score': 0.9846153846153847,\n  'support': 32},\n '1': {'precision': 0.9824561403508771,\n  'recall': 0.9655172413793104,\n  'f1-score': 0.9739130434782608,\n  'support': 58},\n '2': {'precision': 0.9090909090909091,\n  'recall': 0.7407407407407407,\n  'f1-score': 0.8163265306122449,\n  'support': 54},\n '3': {'precision': 0.7142857142857143,\n  'recall': 1.0,\n  'f1-score': 0.8333333333333333,\n  'support': 25},\n '4': {'precision': 0.8913043478260869,\n  'recall': 0.8723404255319149,\n  'f1-score': 0.8817204301075269,\n  'support': 47},\n '5': {'precision': 0.9285714285714286,\n  'recall': 0.9069767441860465,\n  'f1-score': 0.9176470588235294,\n  'support': 43},\n '6': {'precision': 0.7647058823529411,\n  'recall': 0.8666666666666667,\n  'f1-score': 0.8125,\n  'support': 30},\n '7': {'precision': 0.975609756097561,\n  'recall': 0.975609756097561,\n  'f1-score': 0.975609756097561,\n  'support': 41},\n '8': {'precision': 0.7407407407407407,\n  'recall': 0.6896551724137931,\n  'f1-score': 0.7142857142857143,\n  'support': 29},\n '9': {'precision': 0.9512195121951219,\n  'recall': 0.9285714285714286,\n  'f1-score': 0.9397590361445782,\n  'support': 42},\n '10': {'precision': 0.5714285714285714,\n  'recall': 0.5714285714285714,\n  'f1-score': 0.5714285714285714,\n  'support': 42},\n '11': {'precision': 0.9772727272727273,\n  'recall': 0.9555555555555556,\n  'f1-score': 0.9662921348314608,\n  'support': 45},\n '12': {'precision': 0.7407407407407407,\n  'recall': 0.8,\n  'f1-score': 0.7692307692307692,\n  'support': 50},\n '13': {'precision': 0.6666666666666666,\n  'recall': 0.6857142857142857,\n  'f1-score': 0.676056338028169,\n  'support': 35},\n '14': {'precision': 0.6511627906976745,\n  'recall': 0.7368421052631579,\n  'f1-score': 0.6913580246913581,\n  'support': 38},\n '15': {'precision': 0.90625,\n  'recall': 0.90625,\n  'f1-score': 0.90625,\n  'support': 32},\n '16': {'precision': 0.5897435897435898,\n  'recall': 0.46938775510204084,\n  'f1-score': 0.5227272727272727,\n  'support': 49},\n '17': {'precision': 0.9,\n  'recall': 0.8571428571428571,\n  'f1-score': 0.8780487804878048,\n  'support': 42},\n '18': {'precision': 0.8235294117647058,\n  'recall': 0.8235294117647058,\n  'f1-score': 0.8235294117647058,\n  'support': 34},\n '19': {'precision': 0.8611111111111112,\n  'recall': 0.96875,\n  'f1-score': 0.911764705882353,\n  'support': 32},\n 'accuracy': 0.83,\n 'macro avg': {'precision': 0.8257793505317069,\n  'recall': 0.8360339358779318,\n  'f1-score': 0.8283198148285299,\n  'support': 800},\n 'weighted avg': {'precision': 0.831874231195643,\n  'recall': 0.83,\n  'f1-score': 0.8286436010290258,\n  'support': 800}}"
     },
     "execution_count": 21,
     "metadata": {},
     "output_type": "execute_result"
    }
   ],
   "source": [
    "tree_pred = decision_tree.predict(x_test)\n",
    "classification_report(tree_pred, y_test, output_dict=True)"
   ]
  },
  {
   "cell_type": "code",
   "execution_count": 8,
   "metadata": {
    "pycharm": {
     "name": "#%%\n"
    }
   },
   "outputs": [
    {
     "data": {
      "text/html": [
       "<style>#sk-container-id-1 {color: black;background-color: white;}#sk-container-id-1 pre{padding: 0;}#sk-container-id-1 div.sk-toggleable {background-color: white;}#sk-container-id-1 label.sk-toggleable__label {cursor: pointer;display: block;width: 100%;margin-bottom: 0;padding: 0.3em;box-sizing: border-box;text-align: center;}#sk-container-id-1 label.sk-toggleable__label-arrow:before {content: \"▸\";float: left;margin-right: 0.25em;color: #696969;}#sk-container-id-1 label.sk-toggleable__label-arrow:hover:before {color: black;}#sk-container-id-1 div.sk-estimator:hover label.sk-toggleable__label-arrow:before {color: black;}#sk-container-id-1 div.sk-toggleable__content {max-height: 0;max-width: 0;overflow: hidden;text-align: left;background-color: #f0f8ff;}#sk-container-id-1 div.sk-toggleable__content pre {margin: 0.2em;color: black;border-radius: 0.25em;background-color: #f0f8ff;}#sk-container-id-1 input.sk-toggleable__control:checked~div.sk-toggleable__content {max-height: 200px;max-width: 100%;overflow: auto;}#sk-container-id-1 input.sk-toggleable__control:checked~label.sk-toggleable__label-arrow:before {content: \"▾\";}#sk-container-id-1 div.sk-estimator input.sk-toggleable__control:checked~label.sk-toggleable__label {background-color: #d4ebff;}#sk-container-id-1 div.sk-label input.sk-toggleable__control:checked~label.sk-toggleable__label {background-color: #d4ebff;}#sk-container-id-1 input.sk-hidden--visually {border: 0;clip: rect(1px 1px 1px 1px);clip: rect(1px, 1px, 1px, 1px);height: 1px;margin: -1px;overflow: hidden;padding: 0;position: absolute;width: 1px;}#sk-container-id-1 div.sk-estimator {font-family: monospace;background-color: #f0f8ff;border: 1px dotted black;border-radius: 0.25em;box-sizing: border-box;margin-bottom: 0.5em;}#sk-container-id-1 div.sk-estimator:hover {background-color: #d4ebff;}#sk-container-id-1 div.sk-parallel-item::after {content: \"\";width: 100%;border-bottom: 1px solid gray;flex-grow: 1;}#sk-container-id-1 div.sk-label:hover label.sk-toggleable__label {background-color: #d4ebff;}#sk-container-id-1 div.sk-serial::before {content: \"\";position: absolute;border-left: 1px solid gray;box-sizing: border-box;top: 0;bottom: 0;left: 50%;z-index: 0;}#sk-container-id-1 div.sk-serial {display: flex;flex-direction: column;align-items: center;background-color: white;padding-right: 0.2em;padding-left: 0.2em;position: relative;}#sk-container-id-1 div.sk-item {position: relative;z-index: 1;}#sk-container-id-1 div.sk-parallel {display: flex;align-items: stretch;justify-content: center;background-color: white;position: relative;}#sk-container-id-1 div.sk-item::before, #sk-container-id-1 div.sk-parallel-item::before {content: \"\";position: absolute;border-left: 1px solid gray;box-sizing: border-box;top: 0;bottom: 0;left: 50%;z-index: -1;}#sk-container-id-1 div.sk-parallel-item {display: flex;flex-direction: column;z-index: 1;position: relative;background-color: white;}#sk-container-id-1 div.sk-parallel-item:first-child::after {align-self: flex-end;width: 50%;}#sk-container-id-1 div.sk-parallel-item:last-child::after {align-self: flex-start;width: 50%;}#sk-container-id-1 div.sk-parallel-item:only-child::after {width: 0;}#sk-container-id-1 div.sk-dashed-wrapped {border: 1px dashed gray;margin: 0 0.4em 0.5em 0.4em;box-sizing: border-box;padding-bottom: 0.4em;background-color: white;}#sk-container-id-1 div.sk-label label {font-family: monospace;font-weight: bold;display: inline-block;line-height: 1.2em;}#sk-container-id-1 div.sk-label-container {text-align: center;}#sk-container-id-1 div.sk-container {/* jupyter's `normalize.less` sets `[hidden] { display: none; }` but bootstrap.min.css set `[hidden] { display: none !important; }` so we also need the `!important` here to be able to override the default hidden behavior on the sphinx rendered scikit-learn.org. See: https://github.com/scikit-learn/scikit-learn/issues/21755 */display: inline-block !important;position: relative;}#sk-container-id-1 div.sk-text-repr-fallback {display: none;}</style><div id=\"sk-container-id-1\" class=\"sk-top-container\"><div class=\"sk-text-repr-fallback\"><pre>SVC()</pre><b>In a Jupyter environment, please rerun this cell to show the HTML representation or trust the notebook. <br />On GitHub, the HTML representation is unable to render, please try loading this page with nbviewer.org.</b></div><div class=\"sk-container\" hidden><div class=\"sk-item\"><div class=\"sk-estimator sk-toggleable\"><input class=\"sk-toggleable__control sk-hidden--visually\" id=\"sk-estimator-id-1\" type=\"checkbox\" checked><label for=\"sk-estimator-id-1\" class=\"sk-toggleable__label sk-toggleable__label-arrow\">SVC</label><div class=\"sk-toggleable__content\"><pre>SVC()</pre></div></div></div></div></div>"
      ],
      "text/plain": [
       "SVC()"
      ]
     },
     "execution_count": 8,
     "metadata": {},
     "output_type": "execute_result"
    }
   ],
   "source": [
    "# LinearSVC, ovo, ovr\n",
    "svm_clf = svm.SVC()\n",
    "svm_clf.fit(x_train, y_train)"
   ]
  },
  {
   "cell_type": "code",
   "execution_count": 9,
   "metadata": {
    "pycharm": {
     "name": "#%%\n"
    }
   },
   "outputs": [
    {
     "data": {
      "text/plain": [
       "{'0': {'precision': 0.9696969696969697,\n",
       "  'recall': 0.9696969696969697,\n",
       "  'f1-score': 0.9696969696969697,\n",
       "  'support': 33},\n",
       " '1': {'precision': 1.0,\n",
       "  'recall': 0.9827586206896551,\n",
       "  'f1-score': 0.9913043478260869,\n",
       "  'support': 58},\n",
       " '2': {'precision': 0.9772727272727273,\n",
       "  'recall': 0.9555555555555556,\n",
       "  'f1-score': 0.9662921348314608,\n",
       "  'support': 45},\n",
       " '3': {'precision': 0.9714285714285714,\n",
       "  'recall': 1.0,\n",
       "  'f1-score': 0.9855072463768115,\n",
       "  'support': 34},\n",
       " '4': {'precision': 0.9565217391304348,\n",
       "  'recall': 1.0,\n",
       "  'f1-score': 0.9777777777777777,\n",
       "  'support': 44},\n",
       " '5': {'precision': 0.9761904761904762,\n",
       "  'recall': 0.9761904761904762,\n",
       "  'f1-score': 0.9761904761904762,\n",
       "  'support': 42},\n",
       " '6': {'precision': 0.9411764705882353,\n",
       "  'recall': 0.9696969696969697,\n",
       "  'f1-score': 0.955223880597015,\n",
       "  'support': 33},\n",
       " '7': {'precision': 0.975609756097561,\n",
       "  'recall': 1.0,\n",
       "  'f1-score': 0.9876543209876543,\n",
       "  'support': 40},\n",
       " '8': {'precision': 0.9259259259259259,\n",
       "  'recall': 0.6944444444444444,\n",
       "  'f1-score': 0.7936507936507936,\n",
       "  'support': 36},\n",
       " '9': {'precision': 0.9512195121951219,\n",
       "  'recall': 0.975,\n",
       "  'f1-score': 0.9629629629629629,\n",
       "  'support': 40},\n",
       " '10': {'precision': 0.8809523809523809,\n",
       "  'recall': 0.7872340425531915,\n",
       "  'f1-score': 0.8314606741573034,\n",
       "  'support': 47},\n",
       " '11': {'precision': 0.9772727272727273,\n",
       "  'recall': 1.0,\n",
       "  'f1-score': 0.9885057471264368,\n",
       "  'support': 43},\n",
       " '12': {'precision': 0.6666666666666666,\n",
       "  'recall': 0.6923076923076923,\n",
       "  'f1-score': 0.6792452830188679,\n",
       "  'support': 52},\n",
       " '13': {'precision': 0.8333333333333334,\n",
       "  'recall': 0.9375,\n",
       "  'f1-score': 0.8823529411764706,\n",
       "  'support': 32},\n",
       " '14': {'precision': 0.6744186046511628,\n",
       "  'recall': 0.7837837837837838,\n",
       "  'f1-score': 0.725,\n",
       "  'support': 37},\n",
       " '15': {'precision': 0.9375,\n",
       "  'recall': 0.8333333333333334,\n",
       "  'f1-score': 0.8823529411764706,\n",
       "  'support': 36},\n",
       " '16': {'precision': 0.5384615384615384,\n",
       "  'recall': 0.525,\n",
       "  'f1-score': 0.5316455696202531,\n",
       "  'support': 40},\n",
       " '17': {'precision': 0.9, 'recall': 0.9, 'f1-score': 0.9, 'support': 40},\n",
       " '18': {'precision': 0.9117647058823529,\n",
       "  'recall': 1.0,\n",
       "  'f1-score': 0.9538461538461539,\n",
       "  'support': 31},\n",
       " '19': {'precision': 0.9166666666666666,\n",
       "  'recall': 0.8918918918918919,\n",
       "  'f1-score': 0.9041095890410958,\n",
       "  'support': 37},\n",
       " 'accuracy': 0.89125,\n",
       " 'macro avg': {'precision': 0.8941039386206425,\n",
       "  'recall': 0.8937196890071982,\n",
       "  'f1-score': 0.892238990503053,\n",
       "  'support': 800},\n",
       " 'weighted avg': {'precision': 0.8934278415530403,\n",
       "  'recall': 0.89125,\n",
       "  'f1-score': 0.8908050458836125,\n",
       "  'support': 800}}"
      ]
     },
     "execution_count": 9,
     "metadata": {},
     "output_type": "execute_result"
    }
   ],
   "source": [
    "svm_pred = svm_clf.predict(x_test)\n",
    "classification_report(svm_pred, y_test, output_dict=True)"
   ]
  },
  {
   "cell_type": "code",
   "execution_count": 10,
   "metadata": {
    "pycharm": {
     "name": "#%%\n"
    }
   },
   "outputs": [
    {
     "data": {
      "text/plain": [
       "{'0': {'precision': 0.9696969696969697,\n",
       "  'recall': 1.0,\n",
       "  'f1-score': 0.9846153846153847,\n",
       "  'support': 32},\n",
       " '1': {'precision': 1.0, 'recall': 1.0, 'f1-score': 1.0, 'support': 57},\n",
       " '2': {'precision': 1.0,\n",
       "  'recall': 0.8627450980392157,\n",
       "  'f1-score': 0.9263157894736842,\n",
       "  'support': 51},\n",
       " '3': {'precision': 0.8571428571428571,\n",
       "  'recall': 1.0,\n",
       "  'f1-score': 0.923076923076923,\n",
       "  'support': 30},\n",
       " '4': {'precision': 0.9130434782608695,\n",
       "  'recall': 0.9767441860465116,\n",
       "  'f1-score': 0.9438202247191011,\n",
       "  'support': 43},\n",
       " '5': {'precision': 0.9047619047619048,\n",
       "  'recall': 0.9047619047619048,\n",
       "  'f1-score': 0.9047619047619048,\n",
       "  'support': 42},\n",
       " '6': {'precision': 0.9117647058823529,\n",
       "  'recall': 0.96875,\n",
       "  'f1-score': 0.9393939393939394,\n",
       "  'support': 32},\n",
       " '7': {'precision': 0.9512195121951219,\n",
       "  'recall': 1.0,\n",
       "  'f1-score': 0.975,\n",
       "  'support': 39},\n",
       " '8': {'precision': 0.7777777777777778,\n",
       "  'recall': 0.7,\n",
       "  'f1-score': 0.7368421052631577,\n",
       "  'support': 30},\n",
       " '9': {'precision': 0.9512195121951219,\n",
       "  'recall': 0.975,\n",
       "  'f1-score': 0.9629629629629629,\n",
       "  'support': 40},\n",
       " '10': {'precision': 0.8809523809523809,\n",
       "  'recall': 0.6607142857142857,\n",
       "  'f1-score': 0.7551020408163266,\n",
       "  'support': 56},\n",
       " '11': {'precision': 0.9772727272727273,\n",
       "  'recall': 1.0,\n",
       "  'f1-score': 0.9885057471264368,\n",
       "  'support': 43},\n",
       " '12': {'precision': 0.6481481481481481,\n",
       "  'recall': 0.6363636363636364,\n",
       "  'f1-score': 0.6422018348623852,\n",
       "  'support': 55},\n",
       " '13': {'precision': 0.7777777777777778,\n",
       "  'recall': 0.9333333333333333,\n",
       "  'f1-score': 0.8484848484848485,\n",
       "  'support': 30},\n",
       " '14': {'precision': 0.6046511627906976,\n",
       "  'recall': 0.7027027027027027,\n",
       "  'f1-score': 0.6499999999999999,\n",
       "  'support': 37},\n",
       " '15': {'precision': 0.9375,\n",
       "  'recall': 0.8571428571428571,\n",
       "  'f1-score': 0.8955223880597014,\n",
       "  'support': 35},\n",
       " '16': {'precision': 0.6410256410256411,\n",
       "  'recall': 0.5208333333333334,\n",
       "  'f1-score': 0.5747126436781609,\n",
       "  'support': 48},\n",
       " '17': {'precision': 0.925,\n",
       "  'recall': 0.9487179487179487,\n",
       "  'f1-score': 0.9367088607594937,\n",
       "  'support': 39},\n",
       " '18': {'precision': 0.8235294117647058,\n",
       "  'recall': 1.0,\n",
       "  'f1-score': 0.9032258064516129,\n",
       "  'support': 28},\n",
       " '19': {'precision': 0.8888888888888888,\n",
       "  'recall': 0.9696969696969697,\n",
       "  'f1-score': 0.927536231884058,\n",
       "  'support': 33},\n",
       " 'accuracy': 0.8675,\n",
       " 'macro avg': {'precision': 0.8670686428266972,\n",
       "  'recall': 0.880875312792635,\n",
       "  'f1-score': 0.870939481819504,\n",
       "  'support': 800},\n",
       " 'weighted avg': {'precision': 0.868025158046954,\n",
       "  'recall': 0.8675,\n",
       "  'f1-score': 0.8646412809103835,\n",
       "  'support': 800}}"
      ]
     },
     "execution_count": 10,
     "metadata": {},
     "output_type": "execute_result"
    }
   ],
   "source": [
    "# https://scikit-learn.org/stable/modules/naive_bayes.html\n",
    "gnb = GaussianNB()\n",
    "gnb = gnb.fit(x_train, y_train)\n",
    "gnb_pred = gnb.predict(x_test)\n",
    "classification_report(gnb_pred, y_test, output_dict=True)"
   ]
  },
  {
   "cell_type": "code",
   "execution_count": 11,
   "metadata": {
    "pycharm": {
     "name": "#%%\n"
    }
   },
   "outputs": [],
   "source": [
    "# https://scikit-learn.org/stable/modules/neighbors.html\n",
    "nbrs = NearestNeighbors(n_neighbors=3, algorithm='ball_tree').fit(x_train)\n",
    "distances, indices = nbrs.kneighbors(x_test)"
   ]
  },
  {
   "cell_type": "code",
   "execution_count": 12,
   "metadata": {
    "pycharm": {
     "name": "#%%\n"
    }
   },
   "outputs": [
    {
     "data": {
      "text/plain": [
       "{'0': {'precision': 0.9696969696969697,\n",
       "  'recall': 0.9696969696969697,\n",
       "  'f1-score': 0.9696969696969697,\n",
       "  'support': 33},\n",
       " '1': {'precision': 1.0,\n",
       "  'recall': 0.95,\n",
       "  'f1-score': 0.9743589743589743,\n",
       "  'support': 60},\n",
       " '2': {'precision': 0.9772727272727273,\n",
       "  'recall': 0.8775510204081632,\n",
       "  'f1-score': 0.9247311827956989,\n",
       "  'support': 49},\n",
       " '3': {'precision': 0.9714285714285714,\n",
       "  'recall': 0.918918918918919,\n",
       "  'f1-score': 0.9444444444444445,\n",
       "  'support': 37},\n",
       " '4': {'precision': 0.9130434782608695,\n",
       "  'recall': 0.9767441860465116,\n",
       "  'f1-score': 0.9438202247191011,\n",
       "  'support': 43},\n",
       " '5': {'precision': 0.9285714285714286,\n",
       "  'recall': 0.9069767441860465,\n",
       "  'f1-score': 0.9176470588235294,\n",
       "  'support': 43},\n",
       " '6': {'precision': 0.9411764705882353,\n",
       "  'recall': 0.9696969696969697,\n",
       "  'f1-score': 0.955223880597015,\n",
       "  'support': 33},\n",
       " '7': {'precision': 0.9512195121951219,\n",
       "  'recall': 0.9285714285714286,\n",
       "  'f1-score': 0.9397590361445782,\n",
       "  'support': 42},\n",
       " '8': {'precision': 0.8518518518518519,\n",
       "  'recall': 0.6571428571428571,\n",
       "  'f1-score': 0.7419354838709677,\n",
       "  'support': 35},\n",
       " '9': {'precision': 0.7804878048780488,\n",
       "  'recall': 0.9696969696969697,\n",
       "  'f1-score': 0.8648648648648648,\n",
       "  'support': 33},\n",
       " '10': {'precision': 0.7380952380952381,\n",
       "  'recall': 0.7045454545454546,\n",
       "  'f1-score': 0.7209302325581395,\n",
       "  'support': 44},\n",
       " '11': {'precision': 0.9772727272727273,\n",
       "  'recall': 1.0,\n",
       "  'f1-score': 0.9885057471264368,\n",
       "  'support': 43},\n",
       " '12': {'precision': 0.7777777777777778,\n",
       "  'recall': 0.6885245901639344,\n",
       "  'f1-score': 0.7304347826086957,\n",
       "  'support': 61},\n",
       " '13': {'precision': 0.8611111111111112,\n",
       "  'recall': 0.8378378378378378,\n",
       "  'f1-score': 0.8493150684931507,\n",
       "  'support': 37},\n",
       " '14': {'precision': 0.5813953488372093,\n",
       "  'recall': 0.7352941176470589,\n",
       "  'f1-score': 0.6493506493506493,\n",
       "  'support': 34},\n",
       " '15': {'precision': 0.84375,\n",
       "  'recall': 0.9642857142857143,\n",
       "  'f1-score': 0.8999999999999999,\n",
       "  'support': 28},\n",
       " '16': {'precision': 0.48717948717948717,\n",
       "  'recall': 0.5428571428571428,\n",
       "  'f1-score': 0.5135135135135135,\n",
       "  'support': 35},\n",
       " '17': {'precision': 0.9,\n",
       "  'recall': 0.9473684210526315,\n",
       "  'f1-score': 0.9230769230769231,\n",
       "  'support': 38},\n",
       " '18': {'precision': 0.9117647058823529,\n",
       "  'recall': 0.96875,\n",
       "  'f1-score': 0.9393939393939394,\n",
       "  'support': 32},\n",
       " '19': {'precision': 0.9722222222222222,\n",
       "  'recall': 0.875,\n",
       "  'f1-score': 0.9210526315789473,\n",
       "  'support': 40},\n",
       " 'accuracy': 0.86625,\n",
       " 'macro avg': {'precision': 0.8667658716560973,\n",
       "  'recall': 0.8694729671377305,\n",
       "  'f1-score': 0.8656027804008272,\n",
       "  'support': 800},\n",
       " 'weighted avg': {'precision': 0.8726414673546895,\n",
       "  'recall': 0.86625,\n",
       "  'f1-score': 0.8671248002413219,\n",
       "  'support': 800}}"
      ]
     },
     "execution_count": 12,
     "metadata": {},
     "output_type": "execute_result"
    }
   ],
   "source": [
    "nca = NeighborhoodComponentsAnalysis(random_state=42)\n",
    "knn = KNeighborsClassifier(n_neighbors=3)\n",
    "nca_pipe = Pipeline([('nca', nca), ('knn', knn)])\n",
    "nca_pipe.fit(x_train, y_train)\n",
    "nca_knn_preds = nca_pipe.predict(x_test)\n",
    "classification_report(nca_knn_preds, y_test, output_dict=True)"
   ]
  },
  {
   "cell_type": "code",
   "execution_count": 13,
   "metadata": {
    "pycharm": {
     "name": "#%%\n"
    }
   },
   "outputs": [
    {
     "data": {
      "text/plain": [
       "{'0': {'precision': 0.9696969696969697,\n",
       "  'recall': 0.9696969696969697,\n",
       "  'f1-score': 0.9696969696969697,\n",
       "  'support': 33},\n",
       " '1': {'precision': 1.0,\n",
       "  'recall': 0.9827586206896551,\n",
       "  'f1-score': 0.9913043478260869,\n",
       "  'support': 58},\n",
       " '2': {'precision': 0.9772727272727273,\n",
       "  'recall': 0.9148936170212766,\n",
       "  'f1-score': 0.945054945054945,\n",
       "  'support': 47},\n",
       " '3': {'precision': 0.9714285714285714,\n",
       "  'recall': 1.0,\n",
       "  'f1-score': 0.9855072463768115,\n",
       "  'support': 34},\n",
       " '4': {'precision': 0.9782608695652174,\n",
       "  'recall': 1.0,\n",
       "  'f1-score': 0.989010989010989,\n",
       "  'support': 45},\n",
       " '5': {'precision': 0.9761904761904762,\n",
       "  'recall': 0.9534883720930233,\n",
       "  'f1-score': 0.9647058823529412,\n",
       "  'support': 43},\n",
       " '6': {'precision': 0.9411764705882353,\n",
       "  'recall': 0.9411764705882353,\n",
       "  'f1-score': 0.9411764705882353,\n",
       "  'support': 34},\n",
       " '7': {'precision': 0.9512195121951219,\n",
       "  'recall': 0.975,\n",
       "  'f1-score': 0.9629629629629629,\n",
       "  'support': 40},\n",
       " '8': {'precision': 0.9259259259259259,\n",
       "  'recall': 0.9259259259259259,\n",
       "  'f1-score': 0.9259259259259259,\n",
       "  'support': 27},\n",
       " '9': {'precision': 1.0,\n",
       "  'recall': 0.9534883720930233,\n",
       "  'f1-score': 0.9761904761904763,\n",
       "  'support': 43},\n",
       " '10': {'precision': 0.9285714285714286,\n",
       "  'recall': 0.8666666666666667,\n",
       "  'f1-score': 0.896551724137931,\n",
       "  'support': 45},\n",
       " '11': {'precision': 0.9772727272727273,\n",
       "  'recall': 0.9772727272727273,\n",
       "  'f1-score': 0.9772727272727273,\n",
       "  'support': 44},\n",
       " '12': {'precision': 0.8333333333333334,\n",
       "  'recall': 0.7627118644067796,\n",
       "  'f1-score': 0.7964601769911505,\n",
       "  'support': 59},\n",
       " '13': {'precision': 0.8055555555555556,\n",
       "  'recall': 0.9354838709677419,\n",
       "  'f1-score': 0.8656716417910448,\n",
       "  'support': 31},\n",
       " '14': {'precision': 0.7209302325581395,\n",
       "  'recall': 0.8378378378378378,\n",
       "  'f1-score': 0.7749999999999999,\n",
       "  'support': 37},\n",
       " '15': {'precision': 0.9375,\n",
       "  'recall': 0.967741935483871,\n",
       "  'f1-score': 0.9523809523809523,\n",
       "  'support': 31},\n",
       " '16': {'precision': 0.717948717948718,\n",
       "  'recall': 0.6666666666666666,\n",
       "  'f1-score': 0.691358024691358,\n",
       "  'support': 42},\n",
       " '17': {'precision': 0.925, 'recall': 0.925, 'f1-score': 0.925, 'support': 40},\n",
       " '18': {'precision': 0.9117647058823529,\n",
       "  'recall': 0.96875,\n",
       "  'f1-score': 0.9393939393939394,\n",
       "  'support': 32},\n",
       " '19': {'precision': 0.9166666666666666,\n",
       "  'recall': 0.9428571428571428,\n",
       "  'f1-score': 0.9295774647887323,\n",
       "  'support': 35},\n",
       " 'accuracy': 0.91875,\n",
       " 'macro avg': {'precision': 0.9182857445326083,\n",
       "  'recall': 0.9233708530133772,\n",
       "  'f1-score': 0.9200101433717089,\n",
       "  'support': 800},\n",
       " 'weighted avg': {'precision': 0.9201028394493611,\n",
       "  'recall': 0.91875,\n",
       "  'f1-score': 0.9186331252786907,\n",
       "  'support': 800}}"
      ]
     },
     "execution_count": 13,
     "metadata": {},
     "output_type": "execute_result"
    }
   ],
   "source": [
    "rnd_forest = RandomForestClassifier(max_depth=10, random_state=0)\n",
    "rnd_forest.fit(x_train, y_train)\n",
    "forest_pred = rnd_forest.predict(x_test)\n",
    "classification_report(forest_pred, y_test, output_dict=True)"
   ]
  }
 ],
 "metadata": {
  "kernelspec": {
   "display_name": "Python 3 (ipykernel)",
   "language": "python",
   "name": "python3"
  },
  "language_info": {
   "codemirror_mode": {
    "name": "ipython",
    "version": 3
   },
   "file_extension": ".py",
   "mimetype": "text/x-python",
   "name": "python",
   "nbconvert_exporter": "python",
   "pygments_lexer": "ipython3",
   "version": "3.9.6"
  }
 },
 "nbformat": 4,
 "nbformat_minor": 1
}