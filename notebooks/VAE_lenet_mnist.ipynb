{
 "cells": [
  {
   "cell_type": "code",
   "execution_count": 6,
   "metadata": {
    "collapsed": true,
    "pycharm": {
     "name": "#%%\n"
    }
   },
   "outputs": [],
   "source": [
    "from notebooks.bootstrap_notebooks import bootstrap_notebook, load_dataset, train, test\n",
    "from pl_bolts.models.autoencoders import VAE\n",
    "from src.base.training.models.aes_utils import get_enc_dec, preview_dims\n",
    "from torch.nn import Flatten, Unflatten, Sequential, Linear"
   ]
  },
  {
   "cell_type": "code",
   "execution_count": 7,
   "outputs": [],
   "source": [
    "EXP_NAME = \"vae_nb\"\n",
    "\n",
    "config = {\n",
    "    \"exp_name\": EXP_NAME,\n",
    "    \"enable_gpu\": True,\n",
    "    \"training_n_dev\": 1,\n",
    "    \"logs\": \"C:\\\\Users\\\\micdu\\\\Code\\\\pythonProject\\\\dmtl\\\\notebooks\\\\logs\",\n",
    "    \"training_out\": \"C:\\\\Users\\\\micdu\\\\Code\\\\pythonProject\\\\dmtl\\\\notebooks\\\\lightning_data\",\n",
    "    \"tracking_uri\": \"http://localhost:5000\"\n",
    "}\n",
    "bootstrap_notebook(config)"
   ],
   "metadata": {
    "collapsed": false,
    "pycharm": {
     "name": "#%%\n"
    }
   }
  },
  {
   "cell_type": "code",
   "execution_count": 8,
   "outputs": [],
   "source": [
    "load_dataset({\n",
    "    \"dataset\": \"mnist\",\n",
    "    \"batch_size\": 200,\n",
    "    \"data_path\": \"C:\\\\Users\\\\micdu\\\\Code\\\\pythonProject\\\\dmtl\\\\data\",\n",
    "})"
   ],
   "metadata": {
    "collapsed": false,
    "pycharm": {
     "name": "#%%\n"
    }
   }
  },
  {
   "cell_type": "code",
   "execution_count": 15,
   "outputs": [],
   "source": [
    "class LenetVAE(VAE):\n",
    "\n",
    "    def __init__(\n",
    "            self,\n",
    "            input_height=28,\n",
    "            kl_coeff: float = 0.1,\n",
    "            latent_dim: int = 200,\n",
    "            lr: float = 1e-4,\n",
    "                 ):\n",
    "        layers = [\n",
    "            {\n",
    "                \"in_channels\": 1,\n",
    "                \"out_channels\": 8,\n",
    "                \"padding\": 2,\n",
    "                \"kernel_size\": 5,\n",
    "                \"scale_factor\": 1 / 2\n",
    "            },\n",
    "            {\n",
    "                \"in_channels\": 8,\n",
    "                \"out_channels\": 16,\n",
    "                \"padding\": 0,\n",
    "                \"kernel_size\": 5,\n",
    "                \"scale_factor\": 1 /2\n",
    "            },\n",
    "        ]\n",
    "        channels, x, y = preview_dims((input_height,input_height), layers)\n",
    "        super(LenetVAE, self).__init__(\n",
    "            input_height=input_height,\n",
    "            enc_out_dim=channels * x * y,\n",
    "            kl_coeff=kl_coeff,\n",
    "            latent_dim=latent_dim,\n",
    "            lr=lr\n",
    "        )\n",
    "        self.encoder, decoder = get_enc_dec(layers)\n",
    "        self.encoder.append(Flatten(start_dim=1))\n",
    "        self.decoder = Sequential(\n",
    "            Linear(latent_dim, self.enc_out_dim),\n",
    "            Unflatten(1, (channels, x, y)),\n",
    "            decoder\n",
    "        )"
   ],
   "metadata": {
    "collapsed": false,
    "pycharm": {
     "name": "#%%\n"
    }
   }
  },
  {
   "cell_type": "code",
   "execution_count": 14,
   "outputs": [
    {
     "name": "stderr",
     "output_type": "stream",
     "text": [
      "C:\\Users\\micdu\\AppData\\Local\\Temp\\ipykernel_6656\\2716221504.py:10: UnderReviewWarning: The feature VAE is currently marked under review. The compatibility with other Lightning projects is not guaranteed and API may change at any time. The API and functionality may change without warning in future releases. More details: https://lightning-bolts.readthedocs.io/en/latest/stability.html\n",
      "  super(LenetVAE, self).__init__(\n",
      "Auto select gpus: [0]\n",
      "GPU available: True (cuda), used: True\n",
      "TPU available: False, using: 0 TPU cores\n",
      "IPU available: False, using: 0 IPUs\n",
      "HPU available: False, using: 0 HPUs\n",
      "LOCAL_RANK: 0 - CUDA_VISIBLE_DEVICES: [0]\n",
      "\n",
      "  | Name    | Type       | Params\n",
      "---------------------------------------\n",
      "0 | encoder | Sequential | 3.4 K \n",
      "1 | decoder | Sequential | 83.8 K\n",
      "2 | fc_mu   | Linear     | 80.2 K\n",
      "3 | fc_var  | Linear     | 80.2 K\n",
      "---------------------------------------\n",
      "247 K     Trainable params\n",
      "0         Non-trainable params\n",
      "247 K     Total params\n",
      "0.991     Total estimated model params size (MB)\n"
     ]
    },
    {
     "data": {
      "text/plain": "Sanity Checking: 0it [00:00, ?it/s]",
      "application/vnd.jupyter.widget-view+json": {
       "version_major": 2,
       "version_minor": 0,
       "model_id": "5da381ebc314438984c2f30f0f9f10fd"
      }
     },
     "metadata": {},
     "output_type": "display_data"
    },
    {
     "name": "stderr",
     "output_type": "stream",
     "text": [
      "C:\\Users\\micdu\\Code\\pythonProject\\dmtl\\venv\\lib\\site-packages\\pytorch_lightning\\trainer\\connectors\\data_connector.py:224: PossibleUserWarning: The dataloader, train_dataloader, does not have many workers which may be a bottleneck. Consider increasing the value of the `num_workers` argument` (try 12 which is the number of cpus on this machine) in the `DataLoader` init to improve performance.\n",
      "  rank_zero_warn(\n"
     ]
    },
    {
     "data": {
      "text/plain": "Training: 0it [00:00, ?it/s]",
      "application/vnd.jupyter.widget-view+json": {
       "version_major": 2,
       "version_minor": 0,
       "model_id": "b7912cf13770499687ac4f4539d30f33"
      }
     },
     "metadata": {},
     "output_type": "display_data"
    },
    {
     "name": "stderr",
     "output_type": "stream",
     "text": [
      "C:\\Users\\micdu\\Code\\pythonProject\\dmtl\\venv\\lib\\site-packages\\pytorch_lightning\\trainer\\call.py:48: UserWarning: Detected KeyboardInterrupt, attempting graceful shutdown...\n",
      "  rank_zero_warn(\"Detected KeyboardInterrupt, attempting graceful shutdown...\")\n"
     ]
    },
    {
     "data": {
      "text/plain": "<src.base.training.models.experiment.Experiment at 0x1cc3b418850>"
     },
     "execution_count": 14,
     "metadata": {},
     "output_type": "execute_result"
    }
   ],
   "source": [
    "model = LenetVAE()\n",
    "train(model, epochs=50)"
   ],
   "metadata": {
    "collapsed": false,
    "pycharm": {
     "name": "#%%\n"
    }
   }
  },
  {
   "cell_type": "code",
   "execution_count": null,
   "outputs": [],
   "source": [
    "checkpoint = \"./lightning_data/checkpoints/6/5ac72ec78b5f4835a2c46599e50e1f92/checkpoints/epoch=27-step=44632.ckpt\"\n",
    "#LenetVAE().load_from_checkpoint(checkpoint)\n",
    "loaded_model = model"
   ],
   "metadata": {
    "collapsed": false,
    "pycharm": {
     "name": "#%%\n"
    }
   }
  },
  {
   "cell_type": "code",
   "execution_count": null,
   "outputs": [],
   "source": [
    "from matplotlib.pyplot import imshow, figure\n",
    "from torchvision.utils import make_grid\n",
    "import torch\n",
    "\n",
    "figure(figsize=(8, 3), dpi=300)\n",
    "\n",
    "num_preds = 16\n",
    "x = torch.rand((num_preds, 1600))\n",
    "mu = loaded_model.fc_mu(x)\n",
    "log_var = loaded_model.fc_var(x)\n",
    "p, q, z = loaded_model.sample(mu, log_var)\n",
    "\n",
    "with torch.no_grad():\n",
    "    pred = loaded_model.decoder(z.to(loaded_model.device)).cpu()\n",
    "\n",
    "img = make_grid(pred).permute(1, 2, 0).numpy()\n",
    "\n",
    "# PLOT IMAGES\n",
    "imshow(img);"
   ],
   "metadata": {
    "collapsed": false,
    "pycharm": {
     "name": "#%%\n"
    }
   }
  }
 ],
 "metadata": {
  "kernelspec": {
   "display_name": "Python 3",
   "language": "python",
   "name": "python3"
  },
  "language_info": {
   "codemirror_mode": {
    "name": "ipython",
    "version": 2
   },
   "file_extension": ".py",
   "mimetype": "text/x-python",
   "name": "python",
   "nbconvert_exporter": "python",
   "pygments_lexer": "ipython2",
   "version": "2.7.6"
  }
 },
 "nbformat": 4,
 "nbformat_minor": 0
}