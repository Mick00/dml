{
 "cells": [
  {
   "cell_type": "code",
   "execution_count": 1,
   "metadata": {
    "pycharm": {
     "name": "#%%\n"
    }
   },
   "outputs": [],
   "source": [
    "import pandas as pd\n",
    "\n",
    "from notebooks.analytics.utils import init_analysis\n",
    "\n"
   ]
  },
  {
   "cell_type": "code",
   "execution_count": 2,
   "metadata": {
    "pycharm": {
     "name": "#%%\n"
    }
   },
   "outputs": [],
   "source": [
    "\n",
    "fs = init_analysis(\"daeclust_07_01-clusters\")"
   ]
  },
  {
   "cell_type": "code",
   "execution_count": 3,
   "metadata": {
    "pycharm": {
     "name": "#%%\n"
    }
   },
   "outputs": [],
   "source": [
    "start_time = fs[\"start_time\"].min()"
   ]
  },
  {
   "cell_type": "code",
   "execution_count": 4,
   "metadata": {
    "pycharm": {
     "name": "#%%\n"
    }
   },
   "outputs": [
    {
     "data": {
      "text/plain": [
       "1674145821886"
      ]
     },
     "execution_count": 4,
     "metadata": {},
     "output_type": "execute_result"
    }
   ],
   "source": [
    "start_time"
   ]
  },
  {
   "cell_type": "code",
   "execution_count": 5,
   "metadata": {
    "pycharm": {
     "name": "#%%\n"
    }
   },
   "outputs": [
    {
     "data": {
      "text/plain": [
       "4.828431372549019"
      ]
     },
     "execution_count": 5,
     "metadata": {},
     "output_type": "execute_result"
    }
   ],
   "source": [
    "fs.groupby([\"round_id\", \"trainer_id\"])[\"trainer_id\"].count().groupby(\"round_id\").median().mean()"
   ]
  },
  {
   "cell_type": "code",
   "execution_count": 6,
   "metadata": {
    "pycharm": {
     "name": "#%%\n"
    }
   },
   "outputs": [],
   "source": [
    "fs_rounds_time_start = fs.groupby(\"round_id\")[\"start_time\"].min()"
   ]
  },
  {
   "cell_type": "code",
   "execution_count": 7,
   "metadata": {
    "pycharm": {
     "name": "#%%\n"
    }
   },
   "outputs": [],
   "source": [
    "fs_round_minutes = (fs_rounds_time_start - start_time) / (1000 * 60)"
   ]
  },
  {
   "cell_type": "code",
   "execution_count": 8,
   "metadata": {
    "pycharm": {
     "name": "#%%\n"
    }
   },
   "outputs": [],
   "source": [
    "EXP_NAME = \"daeclust_07_01-clusters-selection\"\n",
    "fs_test = init_analysis(\"daeclust_07_01-clusters-selection\")\n",
    "fs_means = fs_test.groupby([\"round_id\", \"trainer_id\"])[\"test_acc\"].max().groupby([\"round_id\"]).mean().reset_index()"
   ]
  },
  {
   "cell_type": "code",
   "execution_count": 9,
   "metadata": {
    "pycharm": {
     "name": "#%%\n"
    }
   },
   "outputs": [],
   "source": [
    "fs_acc_time = fs_means.merge(fs_round_minutes.reset_index(), on=[\"round_id\"])"
   ]
  },
  {
   "cell_type": "code",
   "execution_count": 10,
   "metadata": {
    "pycharm": {
     "name": "#%%\n"
    }
   },
   "outputs": [],
   "source": [
    "fed = init_analysis(\"fed_avg_02\")\n",
    "\n",
    "start_time = fed[\"start_time\"].min()\n",
    "fed_rounds_time_start = fed.groupby(\"round_id\")[\"start_time\"].min()\n",
    "fed_round_minutes = (fed_rounds_time_start - start_time) / (1000 * 60)\n",
    "\n",
    "fed_means = fed.groupby([\"round_id\"])[\"test_acc\"].mean().reset_index()\n",
    "fed_acc_time = fed_means.merge(fed_round_minutes.reset_index(), on=[\"round_id\"])"
   ]
  },
  {
   "cell_type": "code",
   "execution_count": null,
   "outputs": [],
   "source": [
    "import pandas as pd\n",
    "\n",
    "fed_acc_time[\"label\"] = \"FedAVG\"\n",
    "fs_acc_time[\"label\"] = \"MCFL\"\n",
    "df = pd.concat([fed_acc_time, fs_acc_time.loc[fs_acc_time.round_id < 50]], ignore_index=True)\n",
    "df"
   ],
   "metadata": {
    "collapsed": false,
    "pycharm": {
     "name": "#%%\n"
    }
   }
  },
  {
   "cell_type": "code",
   "execution_count": null,
   "outputs": [],
   "source": [
    "import seaborn as sns\n",
    "from matplotlib import pyplot as plt\n",
    "\n",
    "ax = sns.lineplot(df, x=\"start_time\", y=\"test_acc\", hue=\"label\")\n",
    "plt.ylabel(\"Précision Moyenne\")\n",
    "plt.xlabel(\"Temps écoulé (min)\")\n",
    "plt.title(\"Précision moyenne des entraîneurs en fonction du temps écoulé\")\n",
    "\n",
    "plt.show()"
   ],
   "metadata": {
    "collapsed": false,
    "pycharm": {
     "name": "#%%\n"
    }
   }
  },
  {
   "cell_type": "code",
   "execution_count": null,
   "outputs": [],
   "source": [
    "df.groupby(\"label\")[\"start_time\"].diff(periods=-1).iloc[100:105]"
   ],
   "metadata": {
    "collapsed": false,
    "pycharm": {
     "name": "#%%\n"
    }
   }
  },
  {
   "cell_type": "code",
   "execution_count": null,
   "outputs": [],
   "source": [
    "declust_3 = init_analysis(f\"daeclust_16-clusters-selection\")\n",
    "declust_3[\"label\"] = \"3 std\"\n",
    "declust_2 = init_analysis(f\"daeclust_17_00-clusters-selection\")\n",
    "declust_2[\"label\"] = \"2 std\"\n",
    "declust_mix = init_analysis(f\"daeclust_20_01-clusters\")\n",
    "declust_mix[\"label\"] = \"Mix of 1, 2, 3 std\"\n",
    "fed[\"label\"] = \"FedAVG\"\n",
    "\n",
    "all_selections = pd.concat([declust_3, declust_2, declust_mix, fed])"
   ],
   "metadata": {
    "collapsed": false,
    "pycharm": {
     "name": "#%%\n"
    }
   }
  },
  {
   "cell_type": "code",
   "execution_count": null,
   "outputs": [],
   "source": [
    "training_start = all_selections.groupby([\"label\"])[\"start_time\"].min()\n",
    "round_start = all_selections.groupby([\"round_id\", \"label\"])[\"start_time\"].min()"
   ],
   "metadata": {
    "collapsed": false,
    "pycharm": {
     "name": "#%%\n"
    }
   }
  },
  {
   "cell_type": "code",
   "execution_count": null,
   "outputs": [],
   "source": [
    "round_times = (round_start - training_start)"
   ],
   "metadata": {
    "collapsed": false,
    "pycharm": {
     "name": "#%%\n"
    }
   }
  },
  {
   "cell_type": "code",
   "execution_count": null,
   "outputs": [],
   "source": [
    "round_times"
   ],
   "metadata": {
    "collapsed": false,
    "pycharm": {
     "name": "#%%\n"
    }
   }
  },
  {
   "cell_type": "code",
   "execution_count": null,
   "outputs": [],
   "source": [
    "times = round_times.reset_index().sort_values(\"round_id\")"
   ],
   "metadata": {
    "collapsed": false,
    "pycharm": {
     "name": "#%%\n"
    }
   }
  },
  {
   "cell_type": "code",
   "execution_count": null,
   "outputs": [],
   "source": [
    "times[\"times\"] = times.groupby(\"label\").diff(periods=-1)[\"start_time\"] * -1\n",
    "times"
   ],
   "metadata": {
    "collapsed": false,
    "pycharm": {
     "name": "#%%\n"
    }
   }
  },
  {
   "cell_type": "code",
   "execution_count": null,
   "outputs": [],
   "source": [
    "times[\"ref\"] = times.reset_index().groupby(\"round_id\").min()[\"times\"]"
   ],
   "metadata": {
    "collapsed": false,
    "pycharm": {
     "name": "#%%\n"
    }
   }
  },
  {
   "cell_type": "code",
   "execution_count": null,
   "outputs": [],
   "source": [
    "times.head(20)"
   ],
   "metadata": {
    "collapsed": false,
    "pycharm": {
     "name": "#%%\n"
    }
   }
  },
  {
   "cell_type": "code",
   "execution_count": null,
   "outputs": [],
   "source": [
    "sns.lineplot(times.loc[times.round_id > 0], x=\"round_id\", y=\"times\", hue=\"label\")\n",
    "plt.ylabel(\"Temps requis pour la ronde (ms)\")\n",
    "plt.xlabel(\"Ronde\")\n",
    "plt.title(\"Temps total pour chaque ronde d'entraînement\")\n",
    "plt.legend(loc=1)\n",
    "plt.show()"
   ],
   "metadata": {
    "collapsed": false,
    "pycharm": {
     "name": "#%%\n"
    }
   }
  },
  {
   "cell_type": "code",
   "execution_count": 23,
   "metadata": {},
   "outputs": [
    {
     "data": {
      "text/plain": [
       "100   -0.107217\n",
       "101   -0.105500\n",
       "102         NaN\n",
       "103   -0.824917\n",
       "104   -0.597633\n",
       "Name: start_time, dtype: float64"
      ]
     },
     "execution_count": 23,
     "metadata": {},
     "output_type": "execute_result"
    }
   ],
   "source": [
    "df.groupby(\"label\")[\"start_time\"].diff(periods=-1).iloc[100:105]"
   ]
  },
  {
   "cell_type": "code",
   "execution_count": 118,
   "metadata": {},
   "outputs": [],
   "source": [
    "declust_3 = init_analysis(f\"daeclust_16-clusters-selection\")\n",
    "declust_3[\"label\"] = \"3 std\"\n",
    "declust_2 = init_analysis(f\"daeclust_17_00-clusters-selection\")\n",
    "declust_2[\"label\"] = \"2 std\"\n",
    "declust_mix = init_analysis(f\"daeclust_20_01-clusters\")\n",
    "declust_mix[\"label\"] = \"Mix of 1, 2, 3 std\"\n",
    "fed[\"label\"] = \"FedAVG\"\n",
    "\n",
    "all_selections = pd.concat([declust_3, declust_2, declust_mix, fed])"
   ]
  },
  {
   "cell_type": "code",
   "execution_count": 119,
   "metadata": {},
   "outputs": [],
   "source": [
    "training_start = all_selections.groupby([\"label\"])[\"start_time\"].min()\n",
    "round_start = all_selections.groupby([\"round_id\", \"label\"])[\"start_time\"].min()"
   ]
  },
  {
   "cell_type": "code",
   "execution_count": 120,
   "metadata": {},
   "outputs": [],
   "source": [
    "round_times = (round_start - training_start)"
   ]
  },
  {
   "cell_type": "code",
   "execution_count": 121,
   "metadata": {},
   "outputs": [
    {
     "data": {
      "text/plain": [
       "round_id  label             \n",
       "0.0       FedAVG                      0\n",
       "          Mix of 1, 2, 3 std          0\n",
       "1.0       2 std                       0\n",
       "          3 std                       0\n",
       "          FedAVG                   2004\n",
       "                                 ...   \n",
       "101.0     2 std                 6752045\n",
       "          3 std                 1847382\n",
       "          FedAVG                 680796\n",
       "          Mix of 1, 2, 3 std    8292372\n",
       "102.0     FedAVG                 687126\n",
       "Name: start_time, Length: 407, dtype: int64"
      ]
     },
     "execution_count": 121,
     "metadata": {},
     "output_type": "execute_result"
    }
   ],
   "source": [
    "round_times"
   ]
  },
  {
   "cell_type": "code",
   "execution_count": 122,
   "metadata": {},
   "outputs": [],
   "source": [
    "times = round_times.reset_index().sort_values(\"round_id\")"
   ]
  },
  {
   "cell_type": "code",
   "execution_count": 145,
   "metadata": {},
   "outputs": [
    {
     "data": {
      "text/html": [
       "<div>\n",
       "<style scoped>\n",
       "    .dataframe tbody tr th:only-of-type {\n",
       "        vertical-align: middle;\n",
       "    }\n",
       "\n",
       "    .dataframe tbody tr th {\n",
       "        vertical-align: top;\n",
       "    }\n",
       "\n",
       "    .dataframe thead th {\n",
       "        text-align: right;\n",
       "    }\n",
       "</style>\n",
       "<table border=\"1\" class=\"dataframe\">\n",
       "  <thead>\n",
       "    <tr style=\"text-align: right;\">\n",
       "      <th></th>\n",
       "      <th>round_id</th>\n",
       "      <th>label</th>\n",
       "      <th>start_time</th>\n",
       "      <th>times</th>\n",
       "      <th>times_factor</th>\n",
       "    </tr>\n",
       "  </thead>\n",
       "  <tbody>\n",
       "    <tr>\n",
       "      <th>0</th>\n",
       "      <td>0.0</td>\n",
       "      <td>FedAVG</td>\n",
       "      <td>0</td>\n",
       "      <td>2004.0</td>\n",
       "      <td>1.000000</td>\n",
       "    </tr>\n",
       "    <tr>\n",
       "      <th>1</th>\n",
       "      <td>0.0</td>\n",
       "      <td>Mix of 1, 2, 3 std</td>\n",
       "      <td>0</td>\n",
       "      <td>398547.0</td>\n",
       "      <td>11.611322</td>\n",
       "    </tr>\n",
       "    <tr>\n",
       "      <th>2</th>\n",
       "      <td>1.0</td>\n",
       "      <td>2 std</td>\n",
       "      <td>0</td>\n",
       "      <td>76042.0</td>\n",
       "      <td>12.608523</td>\n",
       "    </tr>\n",
       "    <tr>\n",
       "      <th>3</th>\n",
       "      <td>1.0</td>\n",
       "      <td>3 std</td>\n",
       "      <td>0</td>\n",
       "      <td>76302.0</td>\n",
       "      <td>9.068457</td>\n",
       "    </tr>\n",
       "    <tr>\n",
       "      <th>4</th>\n",
       "      <td>1.0</td>\n",
       "      <td>FedAVG</td>\n",
       "      <td>2004</td>\n",
       "      <td>34324.0</td>\n",
       "      <td>5.774563</td>\n",
       "    </tr>\n",
       "    <tr>\n",
       "      <th>...</th>\n",
       "      <td>...</td>\n",
       "      <td>...</td>\n",
       "      <td>...</td>\n",
       "      <td>...</td>\n",
       "      <td>...</td>\n",
       "    </tr>\n",
       "    <tr>\n",
       "      <th>404</th>\n",
       "      <td>101.0</td>\n",
       "      <td>FedAVG</td>\n",
       "      <td>680796</td>\n",
       "      <td>6330.0</td>\n",
       "      <td>NaN</td>\n",
       "    </tr>\n",
       "    <tr>\n",
       "      <th>405</th>\n",
       "      <td>101.0</td>\n",
       "      <td>Mix of 1, 2, 3 std</td>\n",
       "      <td>8292372</td>\n",
       "      <td>NaN</td>\n",
       "      <td>NaN</td>\n",
       "    </tr>\n",
       "    <tr>\n",
       "      <th>402</th>\n",
       "      <td>101.0</td>\n",
       "      <td>2 std</td>\n",
       "      <td>6752045</td>\n",
       "      <td>NaN</td>\n",
       "      <td>NaN</td>\n",
       "    </tr>\n",
       "    <tr>\n",
       "      <th>403</th>\n",
       "      <td>101.0</td>\n",
       "      <td>3 std</td>\n",
       "      <td>1847382</td>\n",
       "      <td>NaN</td>\n",
       "      <td>NaN</td>\n",
       "    </tr>\n",
       "    <tr>\n",
       "      <th>406</th>\n",
       "      <td>102.0</td>\n",
       "      <td>FedAVG</td>\n",
       "      <td>687126</td>\n",
       "      <td>NaN</td>\n",
       "      <td>NaN</td>\n",
       "    </tr>\n",
       "  </tbody>\n",
       "</table>\n",
       "<p>407 rows × 5 columns</p>\n",
       "</div>"
      ],
      "text/plain": [
       "     round_id               label  start_time     times  times_factor\n",
       "0         0.0              FedAVG           0    2004.0      1.000000\n",
       "1         0.0  Mix of 1, 2, 3 std           0  398547.0     11.611322\n",
       "2         1.0               2 std           0   76042.0     12.608523\n",
       "3         1.0               3 std           0   76302.0      9.068457\n",
       "4         1.0              FedAVG        2004   34324.0      5.774563\n",
       "..        ...                 ...         ...       ...           ...\n",
       "404     101.0              FedAVG      680796    6330.0           NaN\n",
       "405     101.0  Mix of 1, 2, 3 std     8292372       NaN           NaN\n",
       "402     101.0               2 std     6752045       NaN           NaN\n",
       "403     101.0               3 std     1847382       NaN           NaN\n",
       "406     102.0              FedAVG      687126       NaN           NaN\n",
       "\n",
       "[407 rows x 5 columns]"
      ]
     },
     "execution_count": 145,
     "metadata": {},
     "output_type": "execute_result"
    }
   ],
   "source": [
    "times[\"times\"] = times.groupby(\"label\").diff(periods=-1)[\"start_time\"] * -1\n",
    "times"
   ]
  },
  {
   "cell_type": "code",
   "execution_count": 156,
   "metadata": {},
   "outputs": [],
   "source": [
    "times[\"ref\"] = times.reset_index().groupby(\"round_id\").min()[\"times\"]"
   ]
  },
  {
   "cell_type": "code",
   "execution_count": 157,
   "metadata": {},
   "outputs": [
    {
     "data": {
      "text/html": [
       "<div>\n",
       "<style scoped>\n",
       "    .dataframe tbody tr th:only-of-type {\n",
       "        vertical-align: middle;\n",
       "    }\n",
       "\n",
       "    .dataframe tbody tr th {\n",
       "        vertical-align: top;\n",
       "    }\n",
       "\n",
       "    .dataframe thead th {\n",
       "        text-align: right;\n",
       "    }\n",
       "</style>\n",
       "<table border=\"1\" class=\"dataframe\">\n",
       "  <thead>\n",
       "    <tr style=\"text-align: right;\">\n",
       "      <th></th>\n",
       "      <th>round_id</th>\n",
       "      <th>label</th>\n",
       "      <th>start_time</th>\n",
       "      <th>times</th>\n",
       "      <th>times_factor</th>\n",
       "      <th>ref</th>\n",
       "    </tr>\n",
       "  </thead>\n",
       "  <tbody>\n",
       "    <tr>\n",
       "      <th>0</th>\n",
       "      <td>0.0</td>\n",
       "      <td>FedAVG</td>\n",
       "      <td>0</td>\n",
       "      <td>2004.0</td>\n",
       "      <td>1.000000</td>\n",
       "      <td>2004.0</td>\n",
       "    </tr>\n",
       "    <tr>\n",
       "      <th>1</th>\n",
       "      <td>0.0</td>\n",
       "      <td>Mix of 1, 2, 3 std</td>\n",
       "      <td>0</td>\n",
       "      <td>398547.0</td>\n",
       "      <td>11.611322</td>\n",
       "      <td>34324.0</td>\n",
       "    </tr>\n",
       "    <tr>\n",
       "      <th>2</th>\n",
       "      <td>1.0</td>\n",
       "      <td>2 std</td>\n",
       "      <td>0</td>\n",
       "      <td>76042.0</td>\n",
       "      <td>12.608523</td>\n",
       "      <td>6031.0</td>\n",
       "    </tr>\n",
       "    <tr>\n",
       "      <th>3</th>\n",
       "      <td>1.0</td>\n",
       "      <td>3 std</td>\n",
       "      <td>0</td>\n",
       "      <td>76302.0</td>\n",
       "      <td>9.068457</td>\n",
       "      <td>8414.0</td>\n",
       "    </tr>\n",
       "    <tr>\n",
       "      <th>4</th>\n",
       "      <td>1.0</td>\n",
       "      <td>FedAVG</td>\n",
       "      <td>2004</td>\n",
       "      <td>34324.0</td>\n",
       "      <td>5.774563</td>\n",
       "      <td>5944.0</td>\n",
       "    </tr>\n",
       "    <tr>\n",
       "      <th>5</th>\n",
       "      <td>1.0</td>\n",
       "      <td>Mix of 1, 2, 3 std</td>\n",
       "      <td>398547</td>\n",
       "      <td>77444.0</td>\n",
       "      <td>13.090602</td>\n",
       "      <td>5916.0</td>\n",
       "    </tr>\n",
       "    <tr>\n",
       "      <th>6</th>\n",
       "      <td>2.0</td>\n",
       "      <td>2 std</td>\n",
       "      <td>76042</td>\n",
       "      <td>61214.0</td>\n",
       "      <td>8.456140</td>\n",
       "      <td>7239.0</td>\n",
       "    </tr>\n",
       "    <tr>\n",
       "      <th>7</th>\n",
       "      <td>2.0</td>\n",
       "      <td>3 std</td>\n",
       "      <td>76302</td>\n",
       "      <td>43886.0</td>\n",
       "      <td>7.552229</td>\n",
       "      <td>5811.0</td>\n",
       "    </tr>\n",
       "    <tr>\n",
       "      <th>8</th>\n",
       "      <td>2.0</td>\n",
       "      <td>FedAVG</td>\n",
       "      <td>36328</td>\n",
       "      <td>6031.0</td>\n",
       "      <td>1.042163</td>\n",
       "      <td>5787.0</td>\n",
       "    </tr>\n",
       "    <tr>\n",
       "      <th>9</th>\n",
       "      <td>2.0</td>\n",
       "      <td>Mix of 1, 2, 3 std</td>\n",
       "      <td>475991</td>\n",
       "      <td>60252.0</td>\n",
       "      <td>10.058765</td>\n",
       "      <td>5990.0</td>\n",
       "    </tr>\n",
       "    <tr>\n",
       "      <th>13</th>\n",
       "      <td>3.0</td>\n",
       "      <td>Mix of 1, 2, 3 std</td>\n",
       "      <td>536243</td>\n",
       "      <td>62175.0</td>\n",
       "      <td>10.449580</td>\n",
       "      <td>5950.0</td>\n",
       "    </tr>\n",
       "    <tr>\n",
       "      <th>12</th>\n",
       "      <td>3.0</td>\n",
       "      <td>FedAVG</td>\n",
       "      <td>42359</td>\n",
       "      <td>8414.0</td>\n",
       "      <td>1.334496</td>\n",
       "      <td>6305.0</td>\n",
       "    </tr>\n",
       "    <tr>\n",
       "      <th>11</th>\n",
       "      <td>3.0</td>\n",
       "      <td>3 std</td>\n",
       "      <td>120188</td>\n",
       "      <td>33199.0</td>\n",
       "      <td>5.615528</td>\n",
       "      <td>5912.0</td>\n",
       "    </tr>\n",
       "    <tr>\n",
       "      <th>10</th>\n",
       "      <td>3.0</td>\n",
       "      <td>2 std</td>\n",
       "      <td>137256</td>\n",
       "      <td>48251.0</td>\n",
       "      <td>8.110775</td>\n",
       "      <td>5949.0</td>\n",
       "    </tr>\n",
       "    <tr>\n",
       "      <th>14</th>\n",
       "      <td>4.0</td>\n",
       "      <td>2 std</td>\n",
       "      <td>185507</td>\n",
       "      <td>53284.0</td>\n",
       "      <td>8.772473</td>\n",
       "      <td>6074.0</td>\n",
       "    </tr>\n",
       "    <tr>\n",
       "      <th>15</th>\n",
       "      <td>4.0</td>\n",
       "      <td>3 std</td>\n",
       "      <td>153387</td>\n",
       "      <td>29664.0</td>\n",
       "      <td>5.051771</td>\n",
       "      <td>5872.0</td>\n",
       "    </tr>\n",
       "    <tr>\n",
       "      <th>16</th>\n",
       "      <td>4.0</td>\n",
       "      <td>FedAVG</td>\n",
       "      <td>50773</td>\n",
       "      <td>5944.0</td>\n",
       "      <td>0.835301</td>\n",
       "      <td>7116.0</td>\n",
       "    </tr>\n",
       "    <tr>\n",
       "      <th>17</th>\n",
       "      <td>4.0</td>\n",
       "      <td>Mix of 1, 2, 3 std</td>\n",
       "      <td>598418</td>\n",
       "      <td>58759.0</td>\n",
       "      <td>9.781755</td>\n",
       "      <td>6007.0</td>\n",
       "    </tr>\n",
       "    <tr>\n",
       "      <th>18</th>\n",
       "      <td>5.0</td>\n",
       "      <td>2 std</td>\n",
       "      <td>238791</td>\n",
       "      <td>46105.0</td>\n",
       "      <td>6.217802</td>\n",
       "      <td>7415.0</td>\n",
       "    </tr>\n",
       "    <tr>\n",
       "      <th>19</th>\n",
       "      <td>5.0</td>\n",
       "      <td>3 std</td>\n",
       "      <td>183051</td>\n",
       "      <td>19636.0</td>\n",
       "      <td>3.210070</td>\n",
       "      <td>6117.0</td>\n",
       "    </tr>\n",
       "  </tbody>\n",
       "</table>\n",
       "</div>"
      ],
      "text/plain": [
       "    round_id               label  start_time     times  times_factor      ref\n",
       "0        0.0              FedAVG           0    2004.0      1.000000   2004.0\n",
       "1        0.0  Mix of 1, 2, 3 std           0  398547.0     11.611322  34324.0\n",
       "2        1.0               2 std           0   76042.0     12.608523   6031.0\n",
       "3        1.0               3 std           0   76302.0      9.068457   8414.0\n",
       "4        1.0              FedAVG        2004   34324.0      5.774563   5944.0\n",
       "5        1.0  Mix of 1, 2, 3 std      398547   77444.0     13.090602   5916.0\n",
       "6        2.0               2 std       76042   61214.0      8.456140   7239.0\n",
       "7        2.0               3 std       76302   43886.0      7.552229   5811.0\n",
       "8        2.0              FedAVG       36328    6031.0      1.042163   5787.0\n",
       "9        2.0  Mix of 1, 2, 3 std      475991   60252.0     10.058765   5990.0\n",
       "13       3.0  Mix of 1, 2, 3 std      536243   62175.0     10.449580   5950.0\n",
       "12       3.0              FedAVG       42359    8414.0      1.334496   6305.0\n",
       "11       3.0               3 std      120188   33199.0      5.615528   5912.0\n",
       "10       3.0               2 std      137256   48251.0      8.110775   5949.0\n",
       "14       4.0               2 std      185507   53284.0      8.772473   6074.0\n",
       "15       4.0               3 std      153387   29664.0      5.051771   5872.0\n",
       "16       4.0              FedAVG       50773    5944.0      0.835301   7116.0\n",
       "17       4.0  Mix of 1, 2, 3 std      598418   58759.0      9.781755   6007.0\n",
       "18       5.0               2 std      238791   46105.0      6.217802   7415.0\n",
       "19       5.0               3 std      183051   19636.0      3.210070   6117.0"
      ]
     },
     "execution_count": 157,
     "metadata": {},
     "output_type": "execute_result"
    }
   ],
   "source": [
    "times.head(20)"
   ]
  },
  {
   "cell_type": "code",
   "execution_count": 161,
   "metadata": {},
   "outputs": [
    {
     "data": {
      "image/png": "[encoded data removed]",
      "text/plain": [
       "<Figure size 640x480 with 1 Axes>"
      ]
     },
     "metadata": {},
     "output_type": "display_data"
    }
   ],
   "source": [
    "sns.lineplot(times.loc[times.round_id > 0], x=\"round_id\", y=\"times\", hue=\"label\")\n",
    "plt.ylabel(\"Temps requis pour la ronde (ms)\")\n",
    "plt.xlabel(\"Ronde\")\n",
    "plt.title(\"Temps total pour chaque ronde d'entraînement\")\n",
    "plt.legend(loc=1)\n",
    "plt.show()"
   ]
  }
 ],
 "metadata": {
  "kernelspec": {
   "display_name": "Python 3 (ipykernel)",
   "language": "python",
   "name": "python3"
  },
  "language_info": {
   "codemirror_mode": {
    "name": "ipython",
    "version": 3
   },
   "file_extension": ".py",
   "mimetype": "text/x-python",
   "name": "python",
   "nbconvert_exporter": "python",
   "pygments_lexer": "ipython3",
   "version": "3.9.6"
  }
 },
 "nbformat": 4,
 "nbformat_minor": 1
}