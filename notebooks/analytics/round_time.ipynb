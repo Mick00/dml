{
 "cells": [
  {
   "cell_type": "code",
   "execution_count": 54,
   "metadata": {
    "collapsed": true,
    "pycharm": {
     "name": "#%%\n"
    }
   },
   "outputs": [],
   "source": [
    "import pandas as pd\n",
    "\n",
    "from notebooks.analytics.utils import init_analysis\n",
    "\n"
   ]
  },
  {
   "cell_type": "code",
   "execution_count": 55,
   "outputs": [],
   "source": [
    "\n",
    "fs = init_analysis(\"daeclust_07_01-clusters\")"
   ],
   "metadata": {
    "collapsed": false,
    "pycharm": {
     "name": "#%%\n"
    }
   }
  },
  {
   "cell_type": "code",
   "execution_count": 56,
   "outputs": [],
   "source": [
    "start_time = fs[\"start_time\"].min()"
   ],
   "metadata": {
    "collapsed": false,
    "pycharm": {
     "name": "#%%\n"
    }
   }
  },
  {
   "cell_type": "code",
   "execution_count": 57,
   "outputs": [
    {
     "data": {
      "text/plain": "1674145821886"
     },
     "execution_count": 57,
     "metadata": {},
     "output_type": "execute_result"
    }
   ],
   "source": [
    "start_time"
   ],
   "metadata": {
    "collapsed": false,
    "pycharm": {
     "name": "#%%\n"
    }
   }
  },
  {
   "cell_type": "code",
   "execution_count": 76,
   "outputs": [
    {
     "data": {
      "text/plain": "4.828431372549019"
     },
     "execution_count": 76,
     "metadata": {},
     "output_type": "execute_result"
    }
   ],
   "source": [
    "fs.groupby([\"round_id\", \"trainer_id\"])[\"trainer_id\"].count().groupby(\"round_id\").median().mean()"
   ],
   "metadata": {
    "collapsed": false,
    "pycharm": {
     "name": "#%%\n"
    }
   }
  },
  {
   "cell_type": "code",
   "execution_count": 58,
   "outputs": [],
   "source": [
    "fs_rounds_time_start = fs.groupby(\"round_id\")[\"start_time\"].min()"
   ],
   "metadata": {
    "collapsed": false,
    "pycharm": {
     "name": "#%%\n"
    }
   }
  },
  {
   "cell_type": "code",
   "execution_count": 59,
   "outputs": [],
   "source": [
    "fs_round_minutes = (fs_rounds_time_start - start_time) / (1000 * 60)"
   ],
   "metadata": {
    "collapsed": false,
    "pycharm": {
     "name": "#%%\n"
    }
   }
  },
  {
   "cell_type": "code",
   "execution_count": 60,
   "outputs": [],
   "source": [
    "EXP_NAME = \"daeclust_07_01-clusters-selection\"\n",
    "fs_test = init_analysis(\"daeclust_07_01-clusters-selection\")\n",
    "fs_means = fs_test.groupby([\"round_id\", \"trainer_id\"])[\"test_acc\"].max().groupby([\"round_id\"]).mean().reset_index()"
   ],
   "metadata": {
    "collapsed": false,
    "pycharm": {
     "name": "#%%\n"
    }
   }
  },
  {
   "cell_type": "code",
   "execution_count": 63,
   "outputs": [],
   "source": [
    "fs_acc_time = fs_means.merge(fs_round_minutes.reset_index(), on=[\"round_id\"])"
   ],
   "metadata": {
    "collapsed": false,
    "pycharm": {
     "name": "#%%\n"
    }
   }
  },
  {
   "cell_type": "code",
   "execution_count": 64,
   "outputs": [],
   "source": [
    "fed = init_analysis(\"fed_avg_02\")\n",
    "\n",
    "start_time = fed[\"start_time\"].min()\n",
    "fed_rounds_time_start = fed.groupby(\"round_id\")[\"start_time\"].min()\n",
    "fed_round_minutes = (fed_rounds_time_start - start_time) / (1000 * 60)\n",
    "\n",
    "fed_means = fed.groupby([\"round_id\"])[\"test_acc\"].mean().reset_index()\n",
    "fed_acc_time = fed_means.merge(fed_round_minutes.reset_index(), on=[\"round_id\"])"
   ],
   "metadata": {
    "collapsed": false,
    "pycharm": {
     "name": "#%%\n"
    }
   }
  },
  {
   "cell_type": "code",
   "execution_count": 77,
   "outputs": [
    {
     "data": {
      "text/plain": "     round_id  test_acc  start_time     label\n0         0.0       NaN    0.000000    FedAVG\n1         1.0  0.234642    0.033400    FedAVG\n2         2.0  0.195363    0.605467    FedAVG\n3         3.0  0.163833    0.705983    FedAVG\n4         4.0  0.268238    0.846217    FedAVG\n..        ...       ...         ...       ...\n147      45.0  0.991600   36.019917  FedSwarm\n148      46.0  0.996488   36.542417  FedSwarm\n149      47.0  0.994613   37.379600  FedSwarm\n150      48.0  0.994663   38.376900  FedSwarm\n151      49.0  0.987994   39.401617  FedSwarm\n\n[152 rows x 4 columns]",
      "text/html": "<div>\n<style scoped>\n    .dataframe tbody tr th:only-of-type {\n        vertical-align: middle;\n    }\n\n    .dataframe tbody tr th {\n        vertical-align: top;\n    }\n\n    .dataframe thead th {\n        text-align: right;\n    }\n</style>\n<table border=\"1\" class=\"dataframe\">\n  <thead>\n    <tr style=\"text-align: right;\">\n      <th></th>\n      <th>round_id</th>\n      <th>test_acc</th>\n      <th>start_time</th>\n      <th>label</th>\n    </tr>\n  </thead>\n  <tbody>\n    <tr>\n      <th>0</th>\n      <td>0.0</td>\n      <td>NaN</td>\n      <td>0.000000</td>\n      <td>FedAVG</td>\n    </tr>\n    <tr>\n      <th>1</th>\n      <td>1.0</td>\n      <td>0.234642</td>\n      <td>0.033400</td>\n      <td>FedAVG</td>\n    </tr>\n    <tr>\n      <th>2</th>\n      <td>2.0</td>\n      <td>0.195363</td>\n      <td>0.605467</td>\n      <td>FedAVG</td>\n    </tr>\n    <tr>\n      <th>3</th>\n      <td>3.0</td>\n      <td>0.163833</td>\n      <td>0.705983</td>\n      <td>FedAVG</td>\n    </tr>\n    <tr>\n      <th>4</th>\n      <td>4.0</td>\n      <td>0.268238</td>\n      <td>0.846217</td>\n      <td>FedAVG</td>\n    </tr>\n    <tr>\n      <th>...</th>\n      <td>...</td>\n      <td>...</td>\n      <td>...</td>\n      <td>...</td>\n    </tr>\n    <tr>\n      <th>147</th>\n      <td>45.0</td>\n      <td>0.991600</td>\n      <td>36.019917</td>\n      <td>FedSwarm</td>\n    </tr>\n    <tr>\n      <th>148</th>\n      <td>46.0</td>\n      <td>0.996488</td>\n      <td>36.542417</td>\n      <td>FedSwarm</td>\n    </tr>\n    <tr>\n      <th>149</th>\n      <td>47.0</td>\n      <td>0.994613</td>\n      <td>37.379600</td>\n      <td>FedSwarm</td>\n    </tr>\n    <tr>\n      <th>150</th>\n      <td>48.0</td>\n      <td>0.994663</td>\n      <td>38.376900</td>\n      <td>FedSwarm</td>\n    </tr>\n    <tr>\n      <th>151</th>\n      <td>49.0</td>\n      <td>0.987994</td>\n      <td>39.401617</td>\n      <td>FedSwarm</td>\n    </tr>\n  </tbody>\n</table>\n<p>152 rows × 4 columns</p>\n</div>"
     },
     "execution_count": 77,
     "metadata": {},
     "output_type": "execute_result"
    }
   ],
   "source": [
    "import pandas as pd\n",
    "\n",
    "fed_acc_time[\"label\"] = \"FedAVG\"\n",
    "fs_acc_time[\"label\"] = \"FedSwarm\"\n",
    "df = pd.concat([fed_acc_time, fs_acc_time.loc[fs_acc_time.round_id < 50]], ignore_index=True)\n",
    "df"
   ],
   "metadata": {
    "collapsed": false,
    "pycharm": {
     "name": "#%%\n"
    }
   }
  },
  {
   "cell_type": "code",
   "execution_count": 78,
   "outputs": [
    {
     "data": {
      "text/plain": "<AxesSubplot: xlabel='start_time', ylabel='test_acc'>"
     },
     "execution_count": 78,
     "metadata": {},
     "output_type": "execute_result"
    },
    {
     "data": {
      "text/plain": "<Figure size 640x480 with 1 Axes>",
      "image/png": "[encoded data removed]"
     },
     "metadata": {},
     "output_type": "display_data"
    }
   ],
   "source": [
    "import seaborn as sns\n",
    "\n",
    "sns.lineplot(df, x=\"start_time\", y=\"test_acc\", hue=\"label\")"
   ],
   "metadata": {
    "collapsed": false,
    "pycharm": {
     "name": "#%%\n"
    }
   }
  }
 ],
 "metadata": {
  "kernelspec": {
   "display_name": "Python 3",
   "language": "python",
   "name": "python3"
  },
  "language_info": {
   "codemirror_mode": {
    "name": "ipython",
    "version": 2
   },
   "file_extension": ".py",
   "mimetype": "text/x-python",
   "name": "python",
   "nbconvert_exporter": "python",
   "pygments_lexer": "ipython2",
   "version": "2.7.6"
  }
 },
 "nbformat": 4,
 "nbformat_minor": 0
}